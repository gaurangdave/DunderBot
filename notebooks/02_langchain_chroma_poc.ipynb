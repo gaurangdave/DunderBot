{
 "cells": [
  {
   "cell_type": "markdown",
   "metadata": {},
   "source": [
    "# LangChain & ChromaDB POC\n",
    "* This notebook serves playground to integrate `LangChain` with `ChromaDB`. \n",
    "* The main goal of this notebook is to,\n",
    "    * Load data into ChromaDB using LangChain  and OpenAI Embeddings.\n",
    "    * Try to retrieve the data based on similarity using LangChain.\n",
    "* We'll use production data for this so that we can directly convert this notebook into scripts when ready."
   ]
  },
  {
   "cell_type": "markdown",
   "metadata": {},
   "source": [
    "## Import Libraries"
   ]
  },
  {
   "cell_type": "code",
   "execution_count": 1,
   "metadata": {},
   "outputs": [],
   "source": [
    "from pathlib import Path\n",
    "from langchain_community.document_loaders import TextLoader\n",
    "from langchain_text_splitters import CharacterTextSplitter\n",
    "from langchain_text_splitters import RecursiveCharacterTextSplitter\n",
    "from langchain_chroma import Chroma\n",
    "from langchain.schema import Document\n",
    "from langchain_openai import OpenAIEmbeddings\n",
    "\n",
    "\n",
    "import os\n",
    "import pandas as pd\n",
    "import numpy as np\n",
    "import chromadb"
   ]
  },
  {
   "cell_type": "markdown",
   "metadata": {},
   "source": [
    "## Data Exploration"
   ]
  },
  {
   "cell_type": "markdown",
   "metadata": {},
   "source": [
    "* So before we load the data in `ChromaDB` we need to explore the data to understand whether we should group multiple lines into a document or treat each line as a document. "
   ]
  },
  {
   "cell_type": "markdown",
   "metadata": {},
   "source": [
    "### Read Data\n"
   ]
  },
  {
   "cell_type": "code",
   "execution_count": 2,
   "metadata": {},
   "outputs": [],
   "source": [
    "data_dir_path = Path(\"..\",\"data\")\n",
    "raw_dir_path = Path(data_dir_path, \"raw\")\n",
    "file_path = Path(raw_dir_path, \"data.csv\")"
   ]
  },
  {
   "cell_type": "code",
   "execution_count": 3,
   "metadata": {},
   "outputs": [
    {
     "data": {
      "application/vnd.microsoft.datawrangler.viewer.v0+json": {
       "columns": [
        {
         "name": "index",
         "rawType": "int64",
         "type": "integer"
        },
        {
         "name": "id",
         "rawType": "int64",
         "type": "integer"
        },
        {
         "name": "season",
         "rawType": "int64",
         "type": "integer"
        },
        {
         "name": "episode",
         "rawType": "int64",
         "type": "integer"
        },
        {
         "name": "scene",
         "rawType": "int64",
         "type": "integer"
        },
        {
         "name": "line_text",
         "rawType": "object",
         "type": "string"
        },
        {
         "name": "speaker",
         "rawType": "object",
         "type": "string"
        },
        {
         "name": "deleted",
         "rawType": "bool",
         "type": "boolean"
        },
        {
         "name": "title",
         "rawType": "object",
         "type": "string"
        },
        {
         "name": "air_date",
         "rawType": "object",
         "type": "string"
        },
        {
         "name": "rating",
         "rawType": "float64",
         "type": "float"
        },
        {
         "name": "num_votes",
         "rawType": "int64",
         "type": "integer"
        },
        {
         "name": "description",
         "rawType": "object",
         "type": "string"
        },
        {
         "name": "directed_by",
         "rawType": "object",
         "type": "string"
        },
        {
         "name": "written_by",
         "rawType": "object",
         "type": "string"
        },
        {
         "name": "total_lines",
         "rawType": "int64",
         "type": "integer"
        },
        {
         "name": "total_scenes",
         "rawType": "int64",
         "type": "integer"
        },
        {
         "name": "year",
         "rawType": "int64",
         "type": "integer"
        },
        {
         "name": "month",
         "rawType": "int64",
         "type": "integer"
        },
        {
         "name": "day",
         "rawType": "int64",
         "type": "integer"
        },
        {
         "name": "air_dates_diff_days",
         "rawType": "int64",
         "type": "integer"
        },
        {
         "name": "lines",
         "rawType": "object",
         "type": "string"
        }
       ],
       "conversionMethod": "pd.DataFrame",
       "ref": "96cc1c10-47dc-4c0b-8919-583aef640f40",
       "rows": [
        [
         "0",
         "1",
         "1",
         "1",
         "1",
         "All right Jim. Your quarterlies look very good. How are things at the library?",
         "Michael",
         "False",
         "Pilot",
         "2005-03-24",
         "7.5",
         "4349",
         "The premiere episode introduces the boss and staff of the Dunder-Mifflin Paper Company in Scranton, Pennsylvania in a documentary about the workplace.",
         "Ken Kwapis",
         "Ricky Gervais | Stephen Merchant | Greg Daniels",
         "229",
         "39",
         "2005",
         "3",
         "3",
         "0",
         "Michael: All right Jim. Your quarterlies look very good. How are things at the library?"
        ],
        [
         "1",
         "2",
         "1",
         "1",
         "1",
         "Oh, I told you. I couldn't close it. So...",
         "Jim",
         "False",
         "Pilot",
         "2005-03-24",
         "7.5",
         "4349",
         "The premiere episode introduces the boss and staff of the Dunder-Mifflin Paper Company in Scranton, Pennsylvania in a documentary about the workplace.",
         "Ken Kwapis",
         "Ricky Gervais | Stephen Merchant | Greg Daniels",
         "229",
         "39",
         "2005",
         "3",
         "3",
         "0",
         "Jim: Oh, I told you. I couldn't close it. So..."
        ],
        [
         "2",
         "3",
         "1",
         "1",
         "1",
         "So you've come to the master for guidance? Is this what you're saying, grasshopper?",
         "Michael",
         "False",
         "Pilot",
         "2005-03-24",
         "7.5",
         "4349",
         "The premiere episode introduces the boss and staff of the Dunder-Mifflin Paper Company in Scranton, Pennsylvania in a documentary about the workplace.",
         "Ken Kwapis",
         "Ricky Gervais | Stephen Merchant | Greg Daniels",
         "229",
         "39",
         "2005",
         "3",
         "3",
         "0",
         "Michael: So you've come to the master for guidance? Is this what you're saying, grasshopper?"
        ],
        [
         "3",
         "4",
         "1",
         "1",
         "1",
         "Actually, you called me in here, but yeah.",
         "Jim",
         "False",
         "Pilot",
         "2005-03-24",
         "7.5",
         "4349",
         "The premiere episode introduces the boss and staff of the Dunder-Mifflin Paper Company in Scranton, Pennsylvania in a documentary about the workplace.",
         "Ken Kwapis",
         "Ricky Gervais | Stephen Merchant | Greg Daniels",
         "229",
         "39",
         "2005",
         "3",
         "3",
         "0",
         "Jim: Actually, you called me in here, but yeah."
        ],
        [
         "4",
         "5",
         "1",
         "1",
         "1",
         "All right. Well, let me show you how it's done.",
         "Michael",
         "False",
         "Pilot",
         "2005-03-24",
         "7.5",
         "4349",
         "The premiere episode introduces the boss and staff of the Dunder-Mifflin Paper Company in Scranton, Pennsylvania in a documentary about the workplace.",
         "Ken Kwapis",
         "Ricky Gervais | Stephen Merchant | Greg Daniels",
         "229",
         "39",
         "2005",
         "3",
         "3",
         "0",
         "Michael: All right. Well, let me show you how it's done."
        ]
       ],
       "shape": {
        "columns": 21,
        "rows": 5
       }
      },
      "text/html": [
       "<div>\n",
       "<style scoped>\n",
       "    .dataframe tbody tr th:only-of-type {\n",
       "        vertical-align: middle;\n",
       "    }\n",
       "\n",
       "    .dataframe tbody tr th {\n",
       "        vertical-align: top;\n",
       "    }\n",
       "\n",
       "    .dataframe thead th {\n",
       "        text-align: right;\n",
       "    }\n",
       "</style>\n",
       "<table border=\"1\" class=\"dataframe\">\n",
       "  <thead>\n",
       "    <tr style=\"text-align: right;\">\n",
       "      <th></th>\n",
       "      <th>id</th>\n",
       "      <th>season</th>\n",
       "      <th>episode</th>\n",
       "      <th>scene</th>\n",
       "      <th>line_text</th>\n",
       "      <th>speaker</th>\n",
       "      <th>deleted</th>\n",
       "      <th>title</th>\n",
       "      <th>air_date</th>\n",
       "      <th>rating</th>\n",
       "      <th>...</th>\n",
       "      <th>description</th>\n",
       "      <th>directed_by</th>\n",
       "      <th>written_by</th>\n",
       "      <th>total_lines</th>\n",
       "      <th>total_scenes</th>\n",
       "      <th>year</th>\n",
       "      <th>month</th>\n",
       "      <th>day</th>\n",
       "      <th>air_dates_diff_days</th>\n",
       "      <th>lines</th>\n",
       "    </tr>\n",
       "  </thead>\n",
       "  <tbody>\n",
       "    <tr>\n",
       "      <th>0</th>\n",
       "      <td>1</td>\n",
       "      <td>1</td>\n",
       "      <td>1</td>\n",
       "      <td>1</td>\n",
       "      <td>All right Jim. Your quarterlies look very good...</td>\n",
       "      <td>Michael</td>\n",
       "      <td>False</td>\n",
       "      <td>Pilot</td>\n",
       "      <td>2005-03-24</td>\n",
       "      <td>7.5</td>\n",
       "      <td>...</td>\n",
       "      <td>The premiere episode introduces the boss and s...</td>\n",
       "      <td>Ken Kwapis</td>\n",
       "      <td>Ricky Gervais | Stephen Merchant | Greg Daniels</td>\n",
       "      <td>229</td>\n",
       "      <td>39</td>\n",
       "      <td>2005</td>\n",
       "      <td>3</td>\n",
       "      <td>3</td>\n",
       "      <td>0</td>\n",
       "      <td>Michael: All right Jim. Your quarterlies look ...</td>\n",
       "    </tr>\n",
       "    <tr>\n",
       "      <th>1</th>\n",
       "      <td>2</td>\n",
       "      <td>1</td>\n",
       "      <td>1</td>\n",
       "      <td>1</td>\n",
       "      <td>Oh, I told you. I couldn't close it. So...</td>\n",
       "      <td>Jim</td>\n",
       "      <td>False</td>\n",
       "      <td>Pilot</td>\n",
       "      <td>2005-03-24</td>\n",
       "      <td>7.5</td>\n",
       "      <td>...</td>\n",
       "      <td>The premiere episode introduces the boss and s...</td>\n",
       "      <td>Ken Kwapis</td>\n",
       "      <td>Ricky Gervais | Stephen Merchant | Greg Daniels</td>\n",
       "      <td>229</td>\n",
       "      <td>39</td>\n",
       "      <td>2005</td>\n",
       "      <td>3</td>\n",
       "      <td>3</td>\n",
       "      <td>0</td>\n",
       "      <td>Jim: Oh, I told you. I couldn't close it. So...</td>\n",
       "    </tr>\n",
       "    <tr>\n",
       "      <th>2</th>\n",
       "      <td>3</td>\n",
       "      <td>1</td>\n",
       "      <td>1</td>\n",
       "      <td>1</td>\n",
       "      <td>So you've come to the master for guidance? Is ...</td>\n",
       "      <td>Michael</td>\n",
       "      <td>False</td>\n",
       "      <td>Pilot</td>\n",
       "      <td>2005-03-24</td>\n",
       "      <td>7.5</td>\n",
       "      <td>...</td>\n",
       "      <td>The premiere episode introduces the boss and s...</td>\n",
       "      <td>Ken Kwapis</td>\n",
       "      <td>Ricky Gervais | Stephen Merchant | Greg Daniels</td>\n",
       "      <td>229</td>\n",
       "      <td>39</td>\n",
       "      <td>2005</td>\n",
       "      <td>3</td>\n",
       "      <td>3</td>\n",
       "      <td>0</td>\n",
       "      <td>Michael: So you've come to the master for guid...</td>\n",
       "    </tr>\n",
       "    <tr>\n",
       "      <th>3</th>\n",
       "      <td>4</td>\n",
       "      <td>1</td>\n",
       "      <td>1</td>\n",
       "      <td>1</td>\n",
       "      <td>Actually, you called me in here, but yeah.</td>\n",
       "      <td>Jim</td>\n",
       "      <td>False</td>\n",
       "      <td>Pilot</td>\n",
       "      <td>2005-03-24</td>\n",
       "      <td>7.5</td>\n",
       "      <td>...</td>\n",
       "      <td>The premiere episode introduces the boss and s...</td>\n",
       "      <td>Ken Kwapis</td>\n",
       "      <td>Ricky Gervais | Stephen Merchant | Greg Daniels</td>\n",
       "      <td>229</td>\n",
       "      <td>39</td>\n",
       "      <td>2005</td>\n",
       "      <td>3</td>\n",
       "      <td>3</td>\n",
       "      <td>0</td>\n",
       "      <td>Jim: Actually, you called me in here, but yeah.</td>\n",
       "    </tr>\n",
       "    <tr>\n",
       "      <th>4</th>\n",
       "      <td>5</td>\n",
       "      <td>1</td>\n",
       "      <td>1</td>\n",
       "      <td>1</td>\n",
       "      <td>All right. Well, let me show you how it's done.</td>\n",
       "      <td>Michael</td>\n",
       "      <td>False</td>\n",
       "      <td>Pilot</td>\n",
       "      <td>2005-03-24</td>\n",
       "      <td>7.5</td>\n",
       "      <td>...</td>\n",
       "      <td>The premiere episode introduces the boss and s...</td>\n",
       "      <td>Ken Kwapis</td>\n",
       "      <td>Ricky Gervais | Stephen Merchant | Greg Daniels</td>\n",
       "      <td>229</td>\n",
       "      <td>39</td>\n",
       "      <td>2005</td>\n",
       "      <td>3</td>\n",
       "      <td>3</td>\n",
       "      <td>0</td>\n",
       "      <td>Michael: All right. Well, let me show you how ...</td>\n",
       "    </tr>\n",
       "  </tbody>\n",
       "</table>\n",
       "<p>5 rows × 21 columns</p>\n",
       "</div>"
      ],
      "text/plain": [
       "   id  season  episode  scene  \\\n",
       "0   1       1        1      1   \n",
       "1   2       1        1      1   \n",
       "2   3       1        1      1   \n",
       "3   4       1        1      1   \n",
       "4   5       1        1      1   \n",
       "\n",
       "                                           line_text  speaker  deleted  title  \\\n",
       "0  All right Jim. Your quarterlies look very good...  Michael    False  Pilot   \n",
       "1         Oh, I told you. I couldn't close it. So...      Jim    False  Pilot   \n",
       "2  So you've come to the master for guidance? Is ...  Michael    False  Pilot   \n",
       "3         Actually, you called me in here, but yeah.      Jim    False  Pilot   \n",
       "4    All right. Well, let me show you how it's done.  Michael    False  Pilot   \n",
       "\n",
       "     air_date  rating  ...                                        description  \\\n",
       "0  2005-03-24     7.5  ...  The premiere episode introduces the boss and s...   \n",
       "1  2005-03-24     7.5  ...  The premiere episode introduces the boss and s...   \n",
       "2  2005-03-24     7.5  ...  The premiere episode introduces the boss and s...   \n",
       "3  2005-03-24     7.5  ...  The premiere episode introduces the boss and s...   \n",
       "4  2005-03-24     7.5  ...  The premiere episode introduces the boss and s...   \n",
       "\n",
       "  directed_by                                       written_by total_lines  \\\n",
       "0  Ken Kwapis  Ricky Gervais | Stephen Merchant | Greg Daniels         229   \n",
       "1  Ken Kwapis  Ricky Gervais | Stephen Merchant | Greg Daniels         229   \n",
       "2  Ken Kwapis  Ricky Gervais | Stephen Merchant | Greg Daniels         229   \n",
       "3  Ken Kwapis  Ricky Gervais | Stephen Merchant | Greg Daniels         229   \n",
       "4  Ken Kwapis  Ricky Gervais | Stephen Merchant | Greg Daniels         229   \n",
       "\n",
       "   total_scenes  year  month  day  air_dates_diff_days  \\\n",
       "0            39  2005      3    3                    0   \n",
       "1            39  2005      3    3                    0   \n",
       "2            39  2005      3    3                    0   \n",
       "3            39  2005      3    3                    0   \n",
       "4            39  2005      3    3                    0   \n",
       "\n",
       "                                               lines  \n",
       "0  Michael: All right Jim. Your quarterlies look ...  \n",
       "1    Jim: Oh, I told you. I couldn't close it. So...  \n",
       "2  Michael: So you've come to the master for guid...  \n",
       "3    Jim: Actually, you called me in here, but yeah.  \n",
       "4  Michael: All right. Well, let me show you how ...  \n",
       "\n",
       "[5 rows x 21 columns]"
      ]
     },
     "execution_count": 3,
     "metadata": {},
     "output_type": "execute_result"
    }
   ],
   "source": [
    "data = pd.read_csv(file_path)\n",
    "data.head()"
   ]
  },
  {
   "cell_type": "code",
   "execution_count": 4,
   "metadata": {},
   "outputs": [
    {
     "data": {
      "text/plain": [
       "(59909, 21)"
      ]
     },
     "execution_count": 4,
     "metadata": {},
     "output_type": "execute_result"
    }
   ],
   "source": [
    "## shape of data\n",
    "data.shape"
   ]
  },
  {
   "cell_type": "markdown",
   "metadata": {},
   "source": [
    "* Lets figure out whats the average number of words, lines per episode"
   ]
  },
  {
   "cell_type": "code",
   "execution_count": 5,
   "metadata": {},
   "outputs": [
    {
     "data": {
      "application/vnd.microsoft.datawrangler.viewer.v0+json": {
       "columns": [
        {
         "name": "index",
         "rawType": "object",
         "type": "string"
        },
        {
         "name": "mean",
         "rawType": "float64",
         "type": "float"
        }
       ],
       "conversionMethod": "pd.DataFrame",
       "ref": "f2bd4839-e4ee-46ca-bf21-14cd181406de",
       "rows": [
        [
         "min",
         "72.0"
        ],
        [
         "max",
         "625.0"
        ],
        [
         "mean",
         "311.68279569892474"
        ],
        [
         "std",
         "91.06054668115908"
        ],
        [
         "median",
         "291.0"
        ]
       ],
       "shape": {
        "columns": 1,
        "rows": 5
       }
      },
      "text/html": [
       "<div>\n",
       "<style scoped>\n",
       "    .dataframe tbody tr th:only-of-type {\n",
       "        vertical-align: middle;\n",
       "    }\n",
       "\n",
       "    .dataframe tbody tr th {\n",
       "        vertical-align: top;\n",
       "    }\n",
       "\n",
       "    .dataframe thead th {\n",
       "        text-align: right;\n",
       "    }\n",
       "</style>\n",
       "<table border=\"1\" class=\"dataframe\">\n",
       "  <thead>\n",
       "    <tr style=\"text-align: right;\">\n",
       "      <th></th>\n",
       "      <th>mean</th>\n",
       "    </tr>\n",
       "  </thead>\n",
       "  <tbody>\n",
       "    <tr>\n",
       "      <th>min</th>\n",
       "      <td>72.000000</td>\n",
       "    </tr>\n",
       "    <tr>\n",
       "      <th>max</th>\n",
       "      <td>625.000000</td>\n",
       "    </tr>\n",
       "    <tr>\n",
       "      <th>mean</th>\n",
       "      <td>311.682796</td>\n",
       "    </tr>\n",
       "    <tr>\n",
       "      <th>std</th>\n",
       "      <td>91.060547</td>\n",
       "    </tr>\n",
       "    <tr>\n",
       "      <th>median</th>\n",
       "      <td>291.000000</td>\n",
       "    </tr>\n",
       "  </tbody>\n",
       "</table>\n",
       "</div>"
      ],
      "text/plain": [
       "              mean\n",
       "min      72.000000\n",
       "max     625.000000\n",
       "mean    311.682796\n",
       "std      91.060547\n",
       "median  291.000000"
      ]
     },
     "execution_count": 5,
     "metadata": {},
     "output_type": "execute_result"
    }
   ],
   "source": [
    "## average lines per episode\n",
    "data.groupby([\"season\",\"episode\"])[\"total_lines\"].aggregate(['mean']).aggregate([\"min\",\"max\",\"mean\",\"std\", \"median\"])"
   ]
  },
  {
   "cell_type": "markdown",
   "metadata": {},
   "source": [
    "* Lets find out average number of words per episode, for that we'll need to add a column called wordcount for each line. \n",
    "* We'll add that to the new `lines` column that we added since we are going to use that for embedding and querying. "
   ]
  },
  {
   "cell_type": "code",
   "execution_count": 6,
   "metadata": {},
   "outputs": [],
   "source": [
    "data[\"lines_word_count\"] = data[\"lines\"].apply(lambda val: len(val.split(\" \")))"
   ]
  },
  {
   "cell_type": "code",
   "execution_count": 7,
   "metadata": {},
   "outputs": [],
   "source": [
    "data[\"line_text_word_count\"] = data[\"line_text\"].apply(lambda val: len(val.split(\" \")))"
   ]
  },
  {
   "cell_type": "code",
   "execution_count": 8,
   "metadata": {},
   "outputs": [
    {
     "data": {
      "text/plain": [
       "min         2.000000\n",
       "max       274.000000\n",
       "mean       12.471966\n",
       "std        13.539944\n",
       "median      8.000000\n",
       "Name: lines_word_count, dtype: float64"
      ]
     },
     "execution_count": 8,
     "metadata": {},
     "output_type": "execute_result"
    }
   ],
   "source": [
    "data[\"lines_word_count\"].aggregate([\"min\",\"max\",\"mean\",\"std\", \"median\"])"
   ]
  },
  {
   "cell_type": "markdown",
   "metadata": {},
   "source": [
    "Observation:\n",
    "* WHAT! There is a line with 274 words!"
   ]
  },
  {
   "cell_type": "code",
   "execution_count": 9,
   "metadata": {},
   "outputs": [
    {
     "data": {
      "text/plain": [
       "\"Michael: I've really learned from the greats. The great improvisers, Drew Carey, Ryan Stiles, uh, the Brady guy not so much. He's more the signing, Wayne Brady. Um, Robin Williams. Oh, man, would I love to go head-to-head with him. Oh! That would be exciting. [as Robin Williams] 'Hi. I'm Mork from Ork.' Well, I'm Bork from Spork. Nanoo, nanoo. Jibelee, baloobaloo. [as Robin Williams] 'That's Good morning, Vietnam!' Well, hello to you. You know it would be... God. And you know what, sometimes when I'm watching somebody like um, like Jay Leno. He'll be half way through his step [snaps his fingers] And I will already be laughing at the punch line. He hasn't even gotten to it. He doesn't even know what it is it. So it's fun, you know it's fun having a mind that works like that. That is just a few steps ahead of... comedically ahead of like what's going on. Like I'll watch T.V. and I'll be watching a show and I will think, oh, I know someone's gonna walk in here right now and say something funny. And then they do. Or, um, I know they'll be like oh boy that person deserved to be slammed down. There's going to be some sort of insult. And there is. You know, there's like, 'Oh you're... God your butt is fat.' And I knew it. I know it's like I knew they were going to say that. I knew they were gonna go there. Don't go there. Um, but other... You know it's like uh, you know Leno, um and Letterman, Carson, you know. Need I say more? No.\""
      ]
     },
     "execution_count": 9,
     "metadata": {},
     "output_type": "execute_result"
    }
   ],
   "source": [
    "data[data[\"lines_word_count\"] == 274][\"lines\"].values[0]"
   ]
  },
  {
   "cell_type": "markdown",
   "metadata": {},
   "source": [
    "* I assumed correctly that it was a michael scott rant :D"
   ]
  },
  {
   "cell_type": "markdown",
   "metadata": {},
   "source": [
    "## Populating Vector Store"
   ]
  },
  {
   "cell_type": "markdown",
   "metadata": {},
   "source": [
    "### Plan\n",
    "* We will create multiple documents by dividing the episode into scenes (`pseudo-scene` since we are just dividing number of lines by total scenes in that episode)\n",
    "* We will then use the `ReursiveCharacterTextSplitter` with chunk_size of 400. \n",
    "    * 400 represents ~40 to 50 lines with ~10 words per line. \n",
    "    * We can tweak with the chunk size after that. \n",
    "* We'll add `Episode Start` and `Episode End` markers\n",
    "* We'll include speaker names in the text (already updated the column `lines` ) and also in metadata\n",
    "* We'll add `episode description` to improve retrieval. "
   ]
  },
  {
   "cell_type": "markdown",
   "metadata": {},
   "source": [
    "* First lets make sure that the our dataframe is sorted by IDs so that our document breakdown works as expected"
   ]
  },
  {
   "cell_type": "code",
   "execution_count": 10,
   "metadata": {},
   "outputs": [],
   "source": [
    "## sorting the data by ID\n",
    "data = data.sort_values(by=[\"season\",\"episode\",\"id\"])"
   ]
  },
  {
   "cell_type": "code",
   "execution_count": 11,
   "metadata": {},
   "outputs": [
    {
     "data": {
      "application/vnd.microsoft.datawrangler.viewer.v0+json": {
       "columns": [
        {
         "name": "index",
         "rawType": "int64",
         "type": "integer"
        },
        {
         "name": "id",
         "rawType": "int64",
         "type": "integer"
        },
        {
         "name": "season",
         "rawType": "int64",
         "type": "integer"
        },
        {
         "name": "episode",
         "rawType": "int64",
         "type": "integer"
        },
        {
         "name": "scene",
         "rawType": "int64",
         "type": "integer"
        },
        {
         "name": "line_text",
         "rawType": "object",
         "type": "string"
        },
        {
         "name": "speaker",
         "rawType": "object",
         "type": "string"
        },
        {
         "name": "deleted",
         "rawType": "bool",
         "type": "boolean"
        },
        {
         "name": "title",
         "rawType": "object",
         "type": "string"
        },
        {
         "name": "air_date",
         "rawType": "object",
         "type": "string"
        },
        {
         "name": "rating",
         "rawType": "float64",
         "type": "float"
        },
        {
         "name": "num_votes",
         "rawType": "int64",
         "type": "integer"
        },
        {
         "name": "description",
         "rawType": "object",
         "type": "string"
        },
        {
         "name": "directed_by",
         "rawType": "object",
         "type": "string"
        },
        {
         "name": "written_by",
         "rawType": "object",
         "type": "string"
        },
        {
         "name": "total_lines",
         "rawType": "int64",
         "type": "integer"
        },
        {
         "name": "total_scenes",
         "rawType": "int64",
         "type": "integer"
        },
        {
         "name": "year",
         "rawType": "int64",
         "type": "integer"
        },
        {
         "name": "month",
         "rawType": "int64",
         "type": "integer"
        },
        {
         "name": "day",
         "rawType": "int64",
         "type": "integer"
        },
        {
         "name": "air_dates_diff_days",
         "rawType": "int64",
         "type": "integer"
        },
        {
         "name": "lines",
         "rawType": "object",
         "type": "string"
        },
        {
         "name": "lines_word_count",
         "rawType": "int64",
         "type": "integer"
        },
        {
         "name": "line_text_word_count",
         "rawType": "int64",
         "type": "integer"
        }
       ],
       "conversionMethod": "pd.DataFrame",
       "ref": "7da15949-361e-44a4-a0c9-0e60a2445366",
       "rows": [
        [
         "0",
         "1",
         "1",
         "1",
         "1",
         "All right Jim. Your quarterlies look very good. How are things at the library?",
         "Michael",
         "False",
         "Pilot",
         "2005-03-24",
         "7.5",
         "4349",
         "The premiere episode introduces the boss and staff of the Dunder-Mifflin Paper Company in Scranton, Pennsylvania in a documentary about the workplace.",
         "Ken Kwapis",
         "Ricky Gervais | Stephen Merchant | Greg Daniels",
         "229",
         "39",
         "2005",
         "3",
         "3",
         "0",
         "Michael: All right Jim. Your quarterlies look very good. How are things at the library?",
         "15",
         "14"
        ],
        [
         "1",
         "2",
         "1",
         "1",
         "1",
         "Oh, I told you. I couldn't close it. So...",
         "Jim",
         "False",
         "Pilot",
         "2005-03-24",
         "7.5",
         "4349",
         "The premiere episode introduces the boss and staff of the Dunder-Mifflin Paper Company in Scranton, Pennsylvania in a documentary about the workplace.",
         "Ken Kwapis",
         "Ricky Gervais | Stephen Merchant | Greg Daniels",
         "229",
         "39",
         "2005",
         "3",
         "3",
         "0",
         "Jim: Oh, I told you. I couldn't close it. So...",
         "10",
         "9"
        ],
        [
         "2",
         "3",
         "1",
         "1",
         "1",
         "So you've come to the master for guidance? Is this what you're saying, grasshopper?",
         "Michael",
         "False",
         "Pilot",
         "2005-03-24",
         "7.5",
         "4349",
         "The premiere episode introduces the boss and staff of the Dunder-Mifflin Paper Company in Scranton, Pennsylvania in a documentary about the workplace.",
         "Ken Kwapis",
         "Ricky Gervais | Stephen Merchant | Greg Daniels",
         "229",
         "39",
         "2005",
         "3",
         "3",
         "0",
         "Michael: So you've come to the master for guidance? Is this what you're saying, grasshopper?",
         "15",
         "14"
        ],
        [
         "3",
         "4",
         "1",
         "1",
         "1",
         "Actually, you called me in here, but yeah.",
         "Jim",
         "False",
         "Pilot",
         "2005-03-24",
         "7.5",
         "4349",
         "The premiere episode introduces the boss and staff of the Dunder-Mifflin Paper Company in Scranton, Pennsylvania in a documentary about the workplace.",
         "Ken Kwapis",
         "Ricky Gervais | Stephen Merchant | Greg Daniels",
         "229",
         "39",
         "2005",
         "3",
         "3",
         "0",
         "Jim: Actually, you called me in here, but yeah.",
         "9",
         "8"
        ],
        [
         "4",
         "5",
         "1",
         "1",
         "1",
         "All right. Well, let me show you how it's done.",
         "Michael",
         "False",
         "Pilot",
         "2005-03-24",
         "7.5",
         "4349",
         "The premiere episode introduces the boss and staff of the Dunder-Mifflin Paper Company in Scranton, Pennsylvania in a documentary about the workplace.",
         "Ken Kwapis",
         "Ricky Gervais | Stephen Merchant | Greg Daniels",
         "229",
         "39",
         "2005",
         "3",
         "3",
         "0",
         "Michael: All right. Well, let me show you how it's done.",
         "11",
         "10"
        ]
       ],
       "shape": {
        "columns": 23,
        "rows": 5
       }
      },
      "text/html": [
       "<div>\n",
       "<style scoped>\n",
       "    .dataframe tbody tr th:only-of-type {\n",
       "        vertical-align: middle;\n",
       "    }\n",
       "\n",
       "    .dataframe tbody tr th {\n",
       "        vertical-align: top;\n",
       "    }\n",
       "\n",
       "    .dataframe thead th {\n",
       "        text-align: right;\n",
       "    }\n",
       "</style>\n",
       "<table border=\"1\" class=\"dataframe\">\n",
       "  <thead>\n",
       "    <tr style=\"text-align: right;\">\n",
       "      <th></th>\n",
       "      <th>id</th>\n",
       "      <th>season</th>\n",
       "      <th>episode</th>\n",
       "      <th>scene</th>\n",
       "      <th>line_text</th>\n",
       "      <th>speaker</th>\n",
       "      <th>deleted</th>\n",
       "      <th>title</th>\n",
       "      <th>air_date</th>\n",
       "      <th>rating</th>\n",
       "      <th>...</th>\n",
       "      <th>written_by</th>\n",
       "      <th>total_lines</th>\n",
       "      <th>total_scenes</th>\n",
       "      <th>year</th>\n",
       "      <th>month</th>\n",
       "      <th>day</th>\n",
       "      <th>air_dates_diff_days</th>\n",
       "      <th>lines</th>\n",
       "      <th>lines_word_count</th>\n",
       "      <th>line_text_word_count</th>\n",
       "    </tr>\n",
       "  </thead>\n",
       "  <tbody>\n",
       "    <tr>\n",
       "      <th>0</th>\n",
       "      <td>1</td>\n",
       "      <td>1</td>\n",
       "      <td>1</td>\n",
       "      <td>1</td>\n",
       "      <td>All right Jim. Your quarterlies look very good...</td>\n",
       "      <td>Michael</td>\n",
       "      <td>False</td>\n",
       "      <td>Pilot</td>\n",
       "      <td>2005-03-24</td>\n",
       "      <td>7.5</td>\n",
       "      <td>...</td>\n",
       "      <td>Ricky Gervais | Stephen Merchant | Greg Daniels</td>\n",
       "      <td>229</td>\n",
       "      <td>39</td>\n",
       "      <td>2005</td>\n",
       "      <td>3</td>\n",
       "      <td>3</td>\n",
       "      <td>0</td>\n",
       "      <td>Michael: All right Jim. Your quarterlies look ...</td>\n",
       "      <td>15</td>\n",
       "      <td>14</td>\n",
       "    </tr>\n",
       "    <tr>\n",
       "      <th>1</th>\n",
       "      <td>2</td>\n",
       "      <td>1</td>\n",
       "      <td>1</td>\n",
       "      <td>1</td>\n",
       "      <td>Oh, I told you. I couldn't close it. So...</td>\n",
       "      <td>Jim</td>\n",
       "      <td>False</td>\n",
       "      <td>Pilot</td>\n",
       "      <td>2005-03-24</td>\n",
       "      <td>7.5</td>\n",
       "      <td>...</td>\n",
       "      <td>Ricky Gervais | Stephen Merchant | Greg Daniels</td>\n",
       "      <td>229</td>\n",
       "      <td>39</td>\n",
       "      <td>2005</td>\n",
       "      <td>3</td>\n",
       "      <td>3</td>\n",
       "      <td>0</td>\n",
       "      <td>Jim: Oh, I told you. I couldn't close it. So...</td>\n",
       "      <td>10</td>\n",
       "      <td>9</td>\n",
       "    </tr>\n",
       "    <tr>\n",
       "      <th>2</th>\n",
       "      <td>3</td>\n",
       "      <td>1</td>\n",
       "      <td>1</td>\n",
       "      <td>1</td>\n",
       "      <td>So you've come to the master for guidance? Is ...</td>\n",
       "      <td>Michael</td>\n",
       "      <td>False</td>\n",
       "      <td>Pilot</td>\n",
       "      <td>2005-03-24</td>\n",
       "      <td>7.5</td>\n",
       "      <td>...</td>\n",
       "      <td>Ricky Gervais | Stephen Merchant | Greg Daniels</td>\n",
       "      <td>229</td>\n",
       "      <td>39</td>\n",
       "      <td>2005</td>\n",
       "      <td>3</td>\n",
       "      <td>3</td>\n",
       "      <td>0</td>\n",
       "      <td>Michael: So you've come to the master for guid...</td>\n",
       "      <td>15</td>\n",
       "      <td>14</td>\n",
       "    </tr>\n",
       "    <tr>\n",
       "      <th>3</th>\n",
       "      <td>4</td>\n",
       "      <td>1</td>\n",
       "      <td>1</td>\n",
       "      <td>1</td>\n",
       "      <td>Actually, you called me in here, but yeah.</td>\n",
       "      <td>Jim</td>\n",
       "      <td>False</td>\n",
       "      <td>Pilot</td>\n",
       "      <td>2005-03-24</td>\n",
       "      <td>7.5</td>\n",
       "      <td>...</td>\n",
       "      <td>Ricky Gervais | Stephen Merchant | Greg Daniels</td>\n",
       "      <td>229</td>\n",
       "      <td>39</td>\n",
       "      <td>2005</td>\n",
       "      <td>3</td>\n",
       "      <td>3</td>\n",
       "      <td>0</td>\n",
       "      <td>Jim: Actually, you called me in here, but yeah.</td>\n",
       "      <td>9</td>\n",
       "      <td>8</td>\n",
       "    </tr>\n",
       "    <tr>\n",
       "      <th>4</th>\n",
       "      <td>5</td>\n",
       "      <td>1</td>\n",
       "      <td>1</td>\n",
       "      <td>1</td>\n",
       "      <td>All right. Well, let me show you how it's done.</td>\n",
       "      <td>Michael</td>\n",
       "      <td>False</td>\n",
       "      <td>Pilot</td>\n",
       "      <td>2005-03-24</td>\n",
       "      <td>7.5</td>\n",
       "      <td>...</td>\n",
       "      <td>Ricky Gervais | Stephen Merchant | Greg Daniels</td>\n",
       "      <td>229</td>\n",
       "      <td>39</td>\n",
       "      <td>2005</td>\n",
       "      <td>3</td>\n",
       "      <td>3</td>\n",
       "      <td>0</td>\n",
       "      <td>Michael: All right. Well, let me show you how ...</td>\n",
       "      <td>11</td>\n",
       "      <td>10</td>\n",
       "    </tr>\n",
       "  </tbody>\n",
       "</table>\n",
       "<p>5 rows × 23 columns</p>\n",
       "</div>"
      ],
      "text/plain": [
       "   id  season  episode  scene  \\\n",
       "0   1       1        1      1   \n",
       "1   2       1        1      1   \n",
       "2   3       1        1      1   \n",
       "3   4       1        1      1   \n",
       "4   5       1        1      1   \n",
       "\n",
       "                                           line_text  speaker  deleted  title  \\\n",
       "0  All right Jim. Your quarterlies look very good...  Michael    False  Pilot   \n",
       "1         Oh, I told you. I couldn't close it. So...      Jim    False  Pilot   \n",
       "2  So you've come to the master for guidance? Is ...  Michael    False  Pilot   \n",
       "3         Actually, you called me in here, but yeah.      Jim    False  Pilot   \n",
       "4    All right. Well, let me show you how it's done.  Michael    False  Pilot   \n",
       "\n",
       "     air_date  rating  ...                                       written_by  \\\n",
       "0  2005-03-24     7.5  ...  Ricky Gervais | Stephen Merchant | Greg Daniels   \n",
       "1  2005-03-24     7.5  ...  Ricky Gervais | Stephen Merchant | Greg Daniels   \n",
       "2  2005-03-24     7.5  ...  Ricky Gervais | Stephen Merchant | Greg Daniels   \n",
       "3  2005-03-24     7.5  ...  Ricky Gervais | Stephen Merchant | Greg Daniels   \n",
       "4  2005-03-24     7.5  ...  Ricky Gervais | Stephen Merchant | Greg Daniels   \n",
       "\n",
       "  total_lines total_scenes  year  month  day  air_dates_diff_days  \\\n",
       "0         229           39  2005      3    3                    0   \n",
       "1         229           39  2005      3    3                    0   \n",
       "2         229           39  2005      3    3                    0   \n",
       "3         229           39  2005      3    3                    0   \n",
       "4         229           39  2005      3    3                    0   \n",
       "\n",
       "                                               lines  lines_word_count  \\\n",
       "0  Michael: All right Jim. Your quarterlies look ...                15   \n",
       "1    Jim: Oh, I told you. I couldn't close it. So...                10   \n",
       "2  Michael: So you've come to the master for guid...                15   \n",
       "3    Jim: Actually, you called me in here, but yeah.                 9   \n",
       "4  Michael: All right. Well, let me show you how ...                11   \n",
       "\n",
       "   line_text_word_count  \n",
       "0                    14  \n",
       "1                     9  \n",
       "2                    14  \n",
       "3                     8  \n",
       "4                    10  \n",
       "\n",
       "[5 rows x 23 columns]"
      ]
     },
     "execution_count": 11,
     "metadata": {},
     "output_type": "execute_result"
    }
   ],
   "source": [
    "data.head()"
   ]
  },
  {
   "cell_type": "code",
   "execution_count": 12,
   "metadata": {},
   "outputs": [
    {
     "data": {
      "application/vnd.microsoft.datawrangler.viewer.v0+json": {
       "columns": [
        {
         "name": "index",
         "rawType": "int64",
         "type": "integer"
        },
        {
         "name": "id",
         "rawType": "int64",
         "type": "integer"
        },
        {
         "name": "season",
         "rawType": "int64",
         "type": "integer"
        },
        {
         "name": "episode",
         "rawType": "int64",
         "type": "integer"
        },
        {
         "name": "scene",
         "rawType": "int64",
         "type": "integer"
        },
        {
         "name": "line_text",
         "rawType": "object",
         "type": "string"
        },
        {
         "name": "speaker",
         "rawType": "object",
         "type": "string"
        },
        {
         "name": "deleted",
         "rawType": "bool",
         "type": "boolean"
        },
        {
         "name": "title",
         "rawType": "object",
         "type": "string"
        },
        {
         "name": "air_date",
         "rawType": "object",
         "type": "string"
        },
        {
         "name": "rating",
         "rawType": "float64",
         "type": "float"
        },
        {
         "name": "num_votes",
         "rawType": "int64",
         "type": "integer"
        },
        {
         "name": "description",
         "rawType": "object",
         "type": "string"
        },
        {
         "name": "directed_by",
         "rawType": "object",
         "type": "string"
        },
        {
         "name": "written_by",
         "rawType": "object",
         "type": "string"
        },
        {
         "name": "total_lines",
         "rawType": "int64",
         "type": "integer"
        },
        {
         "name": "total_scenes",
         "rawType": "int64",
         "type": "integer"
        },
        {
         "name": "year",
         "rawType": "int64",
         "type": "integer"
        },
        {
         "name": "month",
         "rawType": "int64",
         "type": "integer"
        },
        {
         "name": "day",
         "rawType": "int64",
         "type": "integer"
        },
        {
         "name": "air_dates_diff_days",
         "rawType": "int64",
         "type": "integer"
        },
        {
         "name": "lines",
         "rawType": "object",
         "type": "string"
        },
        {
         "name": "lines_word_count",
         "rawType": "int64",
         "type": "integer"
        },
        {
         "name": "line_text_word_count",
         "rawType": "int64",
         "type": "integer"
        }
       ],
       "conversionMethod": "pd.DataFrame",
       "ref": "43b9756f-6fb5-42b9-b7d9-3dea8178ba79",
       "rows": [
        [
         "59904",
         "59905",
         "9",
         "23",
         "112",
         "It all seems so very arbitrary. I applied for a job at this company because they were hiring. I took a desk at the back because it was empty. But���[chuckles] no matter how you get there or where you end up, human beings have this miraculous gift to make that place home. [standing with two cops] Let���s do this.",
         "Creed",
         "False",
         "Finale",
         "2013-05-16",
         "9.8",
         "9269",
         "One year later, Dunder Mifflin employees past and present reunite for a panel discussion about the documentary and to attend Dwight and Angela's wedding.",
         "Ken Kwapis",
         "Greg Daniels",
         "522",
         "116",
         "2013",
         "5",
         "3",
         "238",
         "Creed: It all seems so very arbitrary. I applied for a job at this company because they were hiring. I took a desk at the back because it was empty. But���[chuckles] no matter how you get there or where you end up, human beings have this miraculous gift to make that place home. [standing with two cops] Let���s do this.",
         "60",
         "59"
        ],
        [
         "59905",
         "59906",
         "9",
         "23",
         "113",
         "I just feel lucky that I got a chance to share my crummy story with anyone out there who thinks they���re the only one to take a dump in a paper shredder. You���re not alone sister. Let���s get a beer sometime.",
         "Meredith",
         "False",
         "Finale",
         "2013-05-16",
         "9.8",
         "9269",
         "One year later, Dunder Mifflin employees past and present reunite for a panel discussion about the documentary and to attend Dwight and Angela's wedding.",
         "Ken Kwapis",
         "Greg Daniels",
         "522",
         "116",
         "2013",
         "5",
         "3",
         "238",
         "Meredith: I just feel lucky that I got a chance to share my crummy story with anyone out there who thinks they���re the only one to take a dump in a paper shredder. You���re not alone sister. Let���s get a beer sometime.",
         "42",
         "41"
        ],
        [
         "59906",
         "59907",
         "9",
         "23",
         "114",
         "I���m happy that this was all filmed so I can remember everyone and what we did. I worked for a paper company all these years and I never wrote anything down.",
         "Phyllis",
         "False",
         "Finale",
         "2013-05-16",
         "9.8",
         "9269",
         "One year later, Dunder Mifflin employees past and present reunite for a panel discussion about the documentary and to attend Dwight and Angela's wedding.",
         "Ken Kwapis",
         "Greg Daniels",
         "522",
         "116",
         "2013",
         "5",
         "3",
         "238",
         "Phyllis: I���m happy that this was all filmed so I can remember everyone and what we did. I worked for a paper company all these years and I never wrote anything down.",
         "32",
         "31"
        ],
        [
         "59907",
         "59908",
         "9",
         "23",
         "115",
         "I sold paper at this company for 12 years. My job was to speak to clients on the phone about quantities and types of copier paper. Even if I didn���t love every minute of it, everything I have, I owe to this job. This stupid���wonderful���boring���amazing job.",
         "Jim",
         "False",
         "Finale",
         "2013-05-16",
         "9.8",
         "9269",
         "One year later, Dunder Mifflin employees past and present reunite for a panel discussion about the documentary and to attend Dwight and Angela's wedding.",
         "Ken Kwapis",
         "Greg Daniels",
         "522",
         "116",
         "2013",
         "5",
         "3",
         "238",
         "Jim: I sold paper at this company for 12 years. My job was to speak to clients on the phone about quantities and types of copier paper. Even if I didn���t love every minute of it, everything I have, I owe to this job. This stupid���wonderful���boring���amazing job.",
         "47",
         "46"
        ],
        [
         "59908",
         "59909",
         "9",
         "23",
         "116",
         "I thought it was weird when you picked us to make a documentary. But all in all���I think an ordinary paper company like Dunder Mifflin was a great subject for a documentary. There���s a lot of beauty in ordinary things. Isn���t that kind of the point?",
         "Pam",
         "False",
         "Finale",
         "2013-05-16",
         "9.8",
         "9269",
         "One year later, Dunder Mifflin employees past and present reunite for a panel discussion about the documentary and to attend Dwight and Angela's wedding.",
         "Ken Kwapis",
         "Greg Daniels",
         "522",
         "116",
         "2013",
         "5",
         "3",
         "238",
         "Pam: I thought it was weird when you picked us to make a documentary. But all in all���I think an ordinary paper company like Dunder Mifflin was a great subject for a documentary. There���s a lot of beauty in ordinary things. Isn���t that kind of the point?",
         "47",
         "46"
        ]
       ],
       "shape": {
        "columns": 23,
        "rows": 5
       }
      },
      "text/html": [
       "<div>\n",
       "<style scoped>\n",
       "    .dataframe tbody tr th:only-of-type {\n",
       "        vertical-align: middle;\n",
       "    }\n",
       "\n",
       "    .dataframe tbody tr th {\n",
       "        vertical-align: top;\n",
       "    }\n",
       "\n",
       "    .dataframe thead th {\n",
       "        text-align: right;\n",
       "    }\n",
       "</style>\n",
       "<table border=\"1\" class=\"dataframe\">\n",
       "  <thead>\n",
       "    <tr style=\"text-align: right;\">\n",
       "      <th></th>\n",
       "      <th>id</th>\n",
       "      <th>season</th>\n",
       "      <th>episode</th>\n",
       "      <th>scene</th>\n",
       "      <th>line_text</th>\n",
       "      <th>speaker</th>\n",
       "      <th>deleted</th>\n",
       "      <th>title</th>\n",
       "      <th>air_date</th>\n",
       "      <th>rating</th>\n",
       "      <th>...</th>\n",
       "      <th>written_by</th>\n",
       "      <th>total_lines</th>\n",
       "      <th>total_scenes</th>\n",
       "      <th>year</th>\n",
       "      <th>month</th>\n",
       "      <th>day</th>\n",
       "      <th>air_dates_diff_days</th>\n",
       "      <th>lines</th>\n",
       "      <th>lines_word_count</th>\n",
       "      <th>line_text_word_count</th>\n",
       "    </tr>\n",
       "  </thead>\n",
       "  <tbody>\n",
       "    <tr>\n",
       "      <th>59904</th>\n",
       "      <td>59905</td>\n",
       "      <td>9</td>\n",
       "      <td>23</td>\n",
       "      <td>112</td>\n",
       "      <td>It all seems so very arbitrary. I applied for ...</td>\n",
       "      <td>Creed</td>\n",
       "      <td>False</td>\n",
       "      <td>Finale</td>\n",
       "      <td>2013-05-16</td>\n",
       "      <td>9.8</td>\n",
       "      <td>...</td>\n",
       "      <td>Greg Daniels</td>\n",
       "      <td>522</td>\n",
       "      <td>116</td>\n",
       "      <td>2013</td>\n",
       "      <td>5</td>\n",
       "      <td>3</td>\n",
       "      <td>238</td>\n",
       "      <td>Creed: It all seems so very arbitrary. I appli...</td>\n",
       "      <td>60</td>\n",
       "      <td>59</td>\n",
       "    </tr>\n",
       "    <tr>\n",
       "      <th>59905</th>\n",
       "      <td>59906</td>\n",
       "      <td>9</td>\n",
       "      <td>23</td>\n",
       "      <td>113</td>\n",
       "      <td>I just feel lucky that I got a chance to share...</td>\n",
       "      <td>Meredith</td>\n",
       "      <td>False</td>\n",
       "      <td>Finale</td>\n",
       "      <td>2013-05-16</td>\n",
       "      <td>9.8</td>\n",
       "      <td>...</td>\n",
       "      <td>Greg Daniels</td>\n",
       "      <td>522</td>\n",
       "      <td>116</td>\n",
       "      <td>2013</td>\n",
       "      <td>5</td>\n",
       "      <td>3</td>\n",
       "      <td>238</td>\n",
       "      <td>Meredith: I just feel lucky that I got a chanc...</td>\n",
       "      <td>42</td>\n",
       "      <td>41</td>\n",
       "    </tr>\n",
       "    <tr>\n",
       "      <th>59906</th>\n",
       "      <td>59907</td>\n",
       "      <td>9</td>\n",
       "      <td>23</td>\n",
       "      <td>114</td>\n",
       "      <td>I���m happy that this was all filmed so I can ...</td>\n",
       "      <td>Phyllis</td>\n",
       "      <td>False</td>\n",
       "      <td>Finale</td>\n",
       "      <td>2013-05-16</td>\n",
       "      <td>9.8</td>\n",
       "      <td>...</td>\n",
       "      <td>Greg Daniels</td>\n",
       "      <td>522</td>\n",
       "      <td>116</td>\n",
       "      <td>2013</td>\n",
       "      <td>5</td>\n",
       "      <td>3</td>\n",
       "      <td>238</td>\n",
       "      <td>Phyllis: I���m happy that this was all filmed ...</td>\n",
       "      <td>32</td>\n",
       "      <td>31</td>\n",
       "    </tr>\n",
       "    <tr>\n",
       "      <th>59907</th>\n",
       "      <td>59908</td>\n",
       "      <td>9</td>\n",
       "      <td>23</td>\n",
       "      <td>115</td>\n",
       "      <td>I sold paper at this company for 12 years. My ...</td>\n",
       "      <td>Jim</td>\n",
       "      <td>False</td>\n",
       "      <td>Finale</td>\n",
       "      <td>2013-05-16</td>\n",
       "      <td>9.8</td>\n",
       "      <td>...</td>\n",
       "      <td>Greg Daniels</td>\n",
       "      <td>522</td>\n",
       "      <td>116</td>\n",
       "      <td>2013</td>\n",
       "      <td>5</td>\n",
       "      <td>3</td>\n",
       "      <td>238</td>\n",
       "      <td>Jim: I sold paper at this company for 12 years...</td>\n",
       "      <td>47</td>\n",
       "      <td>46</td>\n",
       "    </tr>\n",
       "    <tr>\n",
       "      <th>59908</th>\n",
       "      <td>59909</td>\n",
       "      <td>9</td>\n",
       "      <td>23</td>\n",
       "      <td>116</td>\n",
       "      <td>I thought it was weird when you picked us to m...</td>\n",
       "      <td>Pam</td>\n",
       "      <td>False</td>\n",
       "      <td>Finale</td>\n",
       "      <td>2013-05-16</td>\n",
       "      <td>9.8</td>\n",
       "      <td>...</td>\n",
       "      <td>Greg Daniels</td>\n",
       "      <td>522</td>\n",
       "      <td>116</td>\n",
       "      <td>2013</td>\n",
       "      <td>5</td>\n",
       "      <td>3</td>\n",
       "      <td>238</td>\n",
       "      <td>Pam: I thought it was weird when you picked us...</td>\n",
       "      <td>47</td>\n",
       "      <td>46</td>\n",
       "    </tr>\n",
       "  </tbody>\n",
       "</table>\n",
       "<p>5 rows × 23 columns</p>\n",
       "</div>"
      ],
      "text/plain": [
       "          id  season  episode  scene  \\\n",
       "59904  59905       9       23    112   \n",
       "59905  59906       9       23    113   \n",
       "59906  59907       9       23    114   \n",
       "59907  59908       9       23    115   \n",
       "59908  59909       9       23    116   \n",
       "\n",
       "                                               line_text   speaker  deleted  \\\n",
       "59904  It all seems so very arbitrary. I applied for ...     Creed    False   \n",
       "59905  I just feel lucky that I got a chance to share...  Meredith    False   \n",
       "59906  I���m happy that this was all filmed so I can ...   Phyllis    False   \n",
       "59907  I sold paper at this company for 12 years. My ...       Jim    False   \n",
       "59908  I thought it was weird when you picked us to m...       Pam    False   \n",
       "\n",
       "        title    air_date  rating  ...    written_by total_lines total_scenes  \\\n",
       "59904  Finale  2013-05-16     9.8  ...  Greg Daniels         522          116   \n",
       "59905  Finale  2013-05-16     9.8  ...  Greg Daniels         522          116   \n",
       "59906  Finale  2013-05-16     9.8  ...  Greg Daniels         522          116   \n",
       "59907  Finale  2013-05-16     9.8  ...  Greg Daniels         522          116   \n",
       "59908  Finale  2013-05-16     9.8  ...  Greg Daniels         522          116   \n",
       "\n",
       "       year  month  day  air_dates_diff_days  \\\n",
       "59904  2013      5    3                  238   \n",
       "59905  2013      5    3                  238   \n",
       "59906  2013      5    3                  238   \n",
       "59907  2013      5    3                  238   \n",
       "59908  2013      5    3                  238   \n",
       "\n",
       "                                                   lines  lines_word_count  \\\n",
       "59904  Creed: It all seems so very arbitrary. I appli...                60   \n",
       "59905  Meredith: I just feel lucky that I got a chanc...                42   \n",
       "59906  Phyllis: I���m happy that this was all filmed ...                32   \n",
       "59907  Jim: I sold paper at this company for 12 years...                47   \n",
       "59908  Pam: I thought it was weird when you picked us...                47   \n",
       "\n",
       "       line_text_word_count  \n",
       "59904                    59  \n",
       "59905                    41  \n",
       "59906                    31  \n",
       "59907                    46  \n",
       "59908                    46  \n",
       "\n",
       "[5 rows x 23 columns]"
      ]
     },
     "execution_count": 12,
     "metadata": {},
     "output_type": "execute_result"
    }
   ],
   "source": [
    "data.tail()"
   ]
  },
  {
   "cell_type": "markdown",
   "metadata": {},
   "source": [
    "* Grouping the data by season, episode"
   ]
  },
  {
   "cell_type": "markdown",
   "metadata": {},
   "source": [
    "### Preparing Documents"
   ]
  },
  {
   "cell_type": "code",
   "execution_count": 13,
   "metadata": {},
   "outputs": [],
   "source": [
    "## grouping the data by season, episode\n",
    "grouped_data = data.groupby([\"season\", \"episode\"])"
   ]
  },
  {
   "cell_type": "code",
   "execution_count": 14,
   "metadata": {},
   "outputs": [
    {
     "name": "stderr",
     "output_type": "stream",
     "text": [
      "/Users/gaurangdave/anaconda3/envs/ml/lib/python3.12/site-packages/numpy/core/fromnumeric.py:59: FutureWarning: 'DataFrame.swapaxes' is deprecated and will be removed in a future version. Please use 'DataFrame.transpose' instead.\n",
      "  return bound(*args, **kwds)\n"
     ]
    }
   ],
   "source": [
    "# initializing list of documents\n",
    "documents = []\n",
    "# loop thru the grouped data to create documents and metadata\n",
    "for (season, episode), group in grouped_data:\n",
    "    '''\n",
    "        Here season, episode is of type numpy.int64 and group is a pandas.DataFrame\n",
    "    '''\n",
    "    # read all the seasons from this group i.e. per episode\n",
    "    total_scenes = group[\"total_scenes\"].iloc[0]\n",
    "\n",
    "    # break group into scene chunks\n",
    "    scene_chunks = np.array_split(group, total_scenes)\n",
    "\n",
    "    # loop thru each scene to create document, and metadata\n",
    "    for i, chunk in enumerate(scene_chunks):\n",
    "        scene_number = i + 1  # start with scene number 1\n",
    "        # Step 1: Combine lines from pseudo episode\n",
    "        # TODO Does it make sense in adding new line character after each line? I don't think so, but something to confirm later.\n",
    "        combined_lines = \" \".join(chunk[\"lines\"].values)\n",
    "\n",
    "        # Step 2: Create an array of speakers in this scene\n",
    "        # most of the times the speakers are repeated, since a pseudoscene might be between 2 people\n",
    "        speaker_list = list(\n",
    "            map(lambda speaker: speaker.strip(), chunk[\"speaker\"].unique().tolist()))\n",
    "\n",
    "        # Step 3: Retrive episode description\n",
    "        episode_description = chunk[\"description\"].iloc[0]\n",
    "\n",
    "        # Step 4: Add episode start/end markers if needed\n",
    "        if i == 0:\n",
    "            combined_lines = f\"--- Episode Start ---\\n{episode_description}\\n{combined_lines}\"\n",
    "        elif i == len(scene_chunks) - 1:\n",
    "            combined_lines = f\"{combined_lines}\\n--- Episode End ---\"\n",
    "\n",
    "        # Step 5: Create metadata object        \n",
    "        ## we are converting lists to string, cause ChromaDB metadat doesn't support list\n",
    "        ## will need to look into other solution for better querying\n",
    "        \n",
    "        written_by = \",\".join(list(map(lambda writer: writer.strip(), chunk[\"written_by\"].iloc[0].split(\"|\"))))\n",
    "        \n",
    "        metadata = {\n",
    "            \"season\": int(season), ## converting to int cause metadata only supports int\n",
    "            \"episode\": int(episode),\n",
    "            \"scene\": int(scene_number),\n",
    "            \"speakers\": \",\".join(speaker_list),\n",
    "            \"episode_description\": episode_description,\n",
    "            \"rating\": float(chunk[\"rating\"].iloc[0]),\n",
    "            \"directed_by\": chunk[\"directed_by\"].iloc[0].strip(),\n",
    "            \"written_by\": written_by\n",
    "        }\n",
    "\n",
    "        # Step 6: Append document to the document list\n",
    "        documents.append({\n",
    "            \"text\": combined_lines,\n",
    "            \"metadata\": metadata\n",
    "        })"
   ]
  },
  {
   "cell_type": "code",
   "execution_count": 15,
   "metadata": {},
   "outputs": [
    {
     "data": {
      "text/plain": [
       "{'text': \"--- Episode Start ---\\nThe premiere episode introduces the boss and staff of the Dunder-Mifflin Paper Company in Scranton, Pennsylvania in a documentary about the workplace.\\nMichael: All right Jim. Your quarterlies look very good. How are things at the library? Jim: Oh, I told you. I couldn't close it. So... Michael: So you've come to the master for guidance? Is this what you're saying, grasshopper? Jim: Actually, you called me in here, but yeah. Michael: All right. Well, let me show you how it's done. Michael: [on the phone] Yes, I'd like to speak to your office manager, please. Yes, hello. This is Michael Scott. I am the Regional Manager of Dunder Mifflin Paper Products. Just wanted to talk to you manager-a-manger. [quick cut scene] All right. Done deal. Thank you very much, sir. You're a gentleman and a scholar. Oh, I'm sorry. OK. I'm sorry. My mistake. [hangs up] That was a woman I was talking to, so... She had a very low voice. Probably a smoker, so... [Clears throat] So that's the way it's done. Michael: I've, uh, I've been at Dunder Mifflin for 12 years, the last four as Regional Manager. If you want to come through here... See we have the entire floor. So this is my kingdom, as far as the eye can see. This is our receptionist, Pam. Pam! Pam-Pam! Pam Beesly. Pam has been with us for...  forever. Right, Pam?\",\n",
       " 'metadata': {'season': 1,\n",
       "  'episode': 1,\n",
       "  'scene': 1,\n",
       "  'speakers': 'Michael,Jim',\n",
       "  'episode_description': 'The premiere episode introduces the boss and staff of the Dunder-Mifflin Paper Company in Scranton, Pennsylvania in a documentary about the workplace.',\n",
       "  'rating': 7.5,\n",
       "  'directed_by': 'Ken Kwapis',\n",
       "  'written_by': 'Ricky Gervais,Stephen Merchant,Greg Daniels'}}"
      ]
     },
     "execution_count": 15,
     "metadata": {},
     "output_type": "execute_result"
    }
   ],
   "source": [
    "documents[0]"
   ]
  },
  {
   "cell_type": "markdown",
   "metadata": {},
   "source": [
    "### Raw Text to LangChain Documents"
   ]
  },
  {
   "cell_type": "code",
   "execution_count": 16,
   "metadata": {},
   "outputs": [],
   "source": [
    "## create array of LangChain Document\n",
    "docs = [\n",
    "    Document(page_content=doc[\"text\"], metadata=doc[\"metadata\"])\n",
    "    for doc in documents\n",
    "]"
   ]
  },
  {
   "cell_type": "markdown",
   "metadata": {},
   "source": [
    "### Chunking"
   ]
  },
  {
   "cell_type": "code",
   "execution_count": 17,
   "metadata": {},
   "outputs": [],
   "source": [
    "# Use RecursiveCharacterTextSplitter for better chunking\n",
    "text_splitter = RecursiveCharacterTextSplitter(\n",
    "    chunk_size=400,  # Estimated based on avg words per scene\n",
    "    chunk_overlap=50  # Ensures context continuity\n",
    ")\n",
    "\n",
    "# Apply text splitter to break large chunks into smaller ones\n",
    "split_docs = text_splitter.split_documents(docs)"
   ]
  },
  {
   "cell_type": "markdown",
   "metadata": {},
   "source": [
    "### Creating Vector Embeddings & Storing in ChromaDB"
   ]
  },
  {
   "cell_type": "code",
   "execution_count": 18,
   "metadata": {},
   "outputs": [],
   "source": [
    "## initialize OpenAIEmbeddings\n",
    "embedding_function = OpenAIEmbeddings()"
   ]
  },
  {
   "cell_type": "code",
   "execution_count": 19,
   "metadata": {},
   "outputs": [
    {
     "name": "stdout",
     "output_type": "stream",
     "text": [
      "Data successfully loaded into ChromaDB!\n"
     ]
    }
   ],
   "source": [
    "# Connect to ChromaDB and store documents\n",
    "chroma_client = chromadb.PersistentClient(path=\"../db\")\n",
    "\n",
    "vector_db = Chroma.from_documents(split_docs, embedding_function, persist_directory=\"../db\")\n",
    "\n",
    "print(\"Data successfully loaded into ChromaDB!\")"
   ]
  },
  {
   "cell_type": "markdown",
   "metadata": {},
   "source": [
    "### Verifying VectorDB"
   ]
  },
  {
   "cell_type": "code",
   "execution_count": 21,
   "metadata": {},
   "outputs": [
    {
     "data": {
      "text/plain": [
       "14998"
      ]
     },
     "execution_count": 21,
     "metadata": {},
     "output_type": "execute_result"
    }
   ],
   "source": [
    "## check db collection count\n",
    "vector_db._collection.count()"
   ]
  },
  {
   "cell_type": "code",
   "execution_count": 23,
   "metadata": {},
   "outputs": [
    {
     "name": "stdout",
     "output_type": "stream",
     "text": [
      "{'ids': ['a0bf6530-ec61-401f-8918-f84fa202030c'], 'embeddings': None, 'documents': ['--- Episode Start ---\\nThe premiere episode introduces the boss and staff of the Dunder-Mifflin Paper Company in Scranton, Pennsylvania in a documentary about the workplace.'], 'uris': None, 'data': None, 'metadatas': [{'directed_by': 'Ken Kwapis', 'episode': 1, 'episode_description': 'The premiere episode introduces the boss and staff of the Dunder-Mifflin Paper Company in Scranton, Pennsylvania in a documentary about the workplace.', 'rating': 7.5, 'scene': 1, 'season': 1, 'speakers': 'Michael,Jim', 'written_by': 'Ricky Gervais,Stephen Merchant,Greg Daniels'}], 'included': [<IncludeEnum.documents: 'documents'>, <IncludeEnum.metadatas: 'metadatas'>]}\n"
     ]
    }
   ],
   "source": [
    "## Retrieve random document from ChromaDB\n",
    "docs = vector_db._collection.get(limit=1)\n",
    "print(docs)"
   ]
  },
  {
   "cell_type": "code",
   "execution_count": 26,
   "metadata": {},
   "outputs": [
    {
     "name": "stdout",
     "output_type": "stream",
     "text": [
      "in love on Valentine's Day. Holly: Two people in love? Michael: I love you. Holly: Wait, wait, wait, what do you mean you love me? We've only been dating for a week. Do you mean you love me like, 'oh, hey, there's Holly. I love that girl.' Or you do you mean you love me like you love me-love me? Michael: I love you-love you.\n",
      "{'directed_by': 'Greg Daniels', 'episode': 15, 'episode_description': \"It's Valentine's Day, and the office is fed up with Michael and Holly's PDA, Andy helps Erin solve Gabe's riddles to find her gift, and Jim and Pam get drunk and try to find a place in the office to have sex.\", 'rating': 8.4, 'scene': 23, 'season': 7, 'speakers': 'Holly,Michael', 'written_by': 'Robert Padnick'}\n",
      "I'm too shy to tell you that I love you.' Michael: Pam.  Pam, you gave me your word. Ryan: [kissing Kelly against her desk] You did that for me? Kelly: Mmhmm. Ryan: Are you happy you did? Toby: Hey guys that's really inappropriate. Ryan: [kisses for a little longer]  What's up? Michael: Um, I got some photos from Costa Rica if you want to see them?\n",
      "{'directed_by': 'Jason Reitman', 'episode': 8, 'episode_description': \"When Michael discovers that corporate has brought back Toby to replace Holly, he tries to frame him with drugs and to get him fired. Meanwhile, Jim surprises Pam by buying his parents' house, and Pam files a secret complaints about Dwight.\", 'rating': 8.6, 'scene': 13, 'season': 5, 'speakers': 'Michael,Pam,Ryan,Kelly,Toby', 'written_by': 'Mindy Kaling'}\n",
      "about this. Michael: Whassup! Jim: Whassup! I still love that after seven years. Michael: Whassup!\n",
      "{'directed_by': 'Ken Kwapis', 'episode': 1, 'episode_description': 'The premiere episode introduces the boss and staff of the Dunder-Mifflin Paper Company in Scranton, Pennsylvania in a documentary about the workplace.', 'rating': 7.5, 'scene': 3, 'season': 1, 'speakers': 'Michael,Dwight,Jim', 'written_by': 'Ricky Gervais,Stephen Merchant,Greg Daniels'}\n",
      "Michael: Grab you here. Holly: And here. Michael: I will grab you here anyway. [laughs] Gabe: You have to cut it out. Holly: Okay. Michael: Never. Holly: You said you would. Michael: I did say I would, but I was wrong. I can't stop. You don't what it is like to love a woman and have her love you back. It is a feeling that cannot and will not, and frankly, cannot be contained.\n",
      "{'directed_by': 'Greg Daniels', 'episode': 15, 'episode_description': \"It's Valentine's Day, and the office is fed up with Michael and Holly's PDA, Andy helps Erin solve Gabe's riddles to find her gift, and Jim and Pam get drunk and try to find a place in the office to have sex.\", 'rating': 8.4, 'scene': 30, 'season': 7, 'speakers': 'Michael,Holly,Gabe', 'written_by': 'Robert Padnick'}\n"
     ]
    }
   ],
   "source": [
    "## Retrieve using similarity search\n",
    "query = \"When did Michael say 'I love you'\"\n",
    "results = vector_db.similarity_search(query=query, k=4)\n",
    "\n",
    "for doc in results:\n",
    "    print(doc.page_content)\n",
    "    print(doc.metadata)"
   ]
  },
  {
   "cell_type": "code",
   "execution_count": 30,
   "metadata": {},
   "outputs": [
    {
     "name": "stdout",
     "output_type": "stream",
     "text": [
      "Jim: [Dressed as Dwight] It's kind of blurry. [puts on his glasses] That's better. [exhales] Question.  What kind of bear is best? Dwight: That's a ridiculous question. Jim: False.  Black bear. Dwight: Well that's debatable.  There are basically two schools of thought--- Jim: Fact.  Bears eat beets.  Bears.  Beets.  Battlestar Galactica. Dwight: Bears do not--- What is going on--- What are you\n",
      "[Dwight scoffs] The job was not mine to give. [sighs] Look, I need your advice on something. I am told that there are bears in the Rockies. Dwight: Where did you hear that? Obvious XM Radio? Michael: Well, I was just thinking that maybe I should keep a salami in my pocket... Dwight: Great idea.\n",
      "Dwight: [whispering to Jim] Trade seats with me. Jim: No. Dwight: I've got a better angle on Pam. I can see everything. Jim: Please stop. Dwight: [grabs a spoon from Jim's coffee cup and checks behind him with it] I need a soup spoon. Dwight: Rule 17: don't turn your back on bears, men you have wronged, or the dominant turkey during mating season. There are forty rules all Schrute boys must learn\n",
      "Michael: ...in order to feed the bears. Dwight: Especially if you think that life would be better without Legs! Michael: How do you mean? Dwight: Black Bears can smell a salami at five miles Michael, what are you thinking?! And they run faster than a horse, so if you were thinking about outrunning one on a horse I would try a cheetah. You, in tight pants, Michael, are a salami to a Black Bear. Do\n",
      "Jim, could you please inform Andy Bernard that he is being shunned. Jim: Andy, Dwight says welcome back, and he could use a hug. Dwight: Ok, tell him that's not true. Jim: Dwight says that he actually doesn't know one single fact about bear attacks. Andy: You guys...\n",
      "Dwight: I had fish yesterday. Michael: Damn it. Michael: [Michael, Ryan and Pam sitting at restaurant, phone rings] Oh. Dwight-elicious. Where you at? Dwight: Oh, hi, Michael. I'm so sorry I'm late. I got stuck in traffic. Michael: Really? That's weird. We didn't see any. Dwight: I hit a bear.\n",
      "Dwight: What separates humans from jungle beasts? The fact that we have rules. When humans give each other gifts, they do it properly and orderly. When bears give each other gifts they just rip open a fox carcass and present it to their mate. I prefer the human way. Oscar: Man, I really wanted that. I really wanted the shower radio, too. Michael: Well, thank God you didn't steal my oven mitt. And\n",
      "Erin: Dwight, our chemistry is really clicking. We work so well together. Dwight: I know. I could just bang you right now. Erin: He's not looking. [Dwight dumps her in the pool] Hey! Robert: I had two bears sewn together to make this king-size. Total waste of two bears. Jim: To both these bears. Ryan: To both these bears. Toby: Bears.\n",
      "her from what? Bears, you idiot? When's the last time you saw a damn bear in Scranton? Dwight: Last year, idiot! [hits his car with the bike chain] Jim: Dwight! Are your legs broken? Dwight: No. My right one's falling asleep a little bit. Jim: Andy, are you all right? Andy: Go away, Tuna! I'm winning this!\n",
      "pants, Michael, are a salami to a Black Bear. Do you understand? [Michael nods in agreement] You're like a giant walking salami! Michael: Okay, so no salami in the pants. How about a pepperoni? Dwight: Any kind of meat that you can possibly name! Michael: Okay.\n"
     ]
    }
   ],
   "source": [
    "## verifying using metadata search\n",
    "results = vector_db.similarity_search(\n",
    "    query=\"What did Dwight say about bears?\",\n",
    "    k=10,\n",
    ")\n",
    "for doc in results:\n",
    "    print(doc.page_content)"
   ]
  },
  {
   "cell_type": "code",
   "execution_count": null,
   "metadata": {},
   "outputs": [],
   "source": []
  }
 ],
 "metadata": {
  "kernelspec": {
   "display_name": "ml",
   "language": "python",
   "name": "python3"
  },
  "language_info": {
   "codemirror_mode": {
    "name": "ipython",
    "version": 3
   },
   "file_extension": ".py",
   "mimetype": "text/x-python",
   "name": "python",
   "nbconvert_exporter": "python",
   "pygments_lexer": "ipython3",
   "version": "3.12.7"
  }
 },
 "nbformat": 4,
 "nbformat_minor": 2
}
