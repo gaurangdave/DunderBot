{
 "cells": [
  {
   "cell_type": "markdown",
   "metadata": {},
   "source": [
    "# Generate Data\n",
    "\n",
    "* This notebook is created for simple data manipulation and conversion to keep the data ready for the RAG application.\n",
    "* This notebook,\n",
    "    1. Converts the xls data to CSV data for easier management. "
   ]
  },
  {
   "cell_type": "markdown",
   "metadata": {},
   "source": [
    "## Import Libraries"
   ]
  },
  {
   "cell_type": "code",
   "execution_count": 11,
   "metadata": {},
   "outputs": [],
   "source": [
    "import pandas as pd\n",
    "from pathlib import Path"
   ]
  },
  {
   "cell_type": "markdown",
   "metadata": {},
   "source": [
    "## Convert XLS To CSV"
   ]
  },
  {
   "cell_type": "markdown",
   "metadata": {},
   "source": [
    "### Read XLS Files"
   ]
  },
  {
   "cell_type": "code",
   "execution_count": 12,
   "metadata": {},
   "outputs": [],
   "source": [
    "data_path = Path(\"..\",\"data\",\"raw\")\n",
    "ratings_file_path = Path(data_path, \"ratings.xlsx\")\n",
    "lines_file_path = Path(data_path, \"lines.xlsx\")"
   ]
  },
  {
   "cell_type": "code",
   "execution_count": 13,
   "metadata": {},
   "outputs": [],
   "source": [
    "ratings = pd.read_excel(ratings_file_path, )\n",
    "lines = pd.read_excel(lines_file_path)"
   ]
  },
  {
   "cell_type": "code",
   "execution_count": 14,
   "metadata": {},
   "outputs": [
    {
     "data": {
      "application/vnd.microsoft.datawrangler.viewer.v0+json": {
       "columns": [
        {
         "name": "index",
         "rawType": "int64",
         "type": "integer"
        },
        {
         "name": "Unnamed: 0",
         "rawType": "int64",
         "type": "integer"
        },
        {
         "name": "season",
         "rawType": "int64",
         "type": "integer"
        },
        {
         "name": "episode",
         "rawType": "int64",
         "type": "integer"
        },
        {
         "name": "episode_no(1-186)",
         "rawType": "int64",
         "type": "integer"
        },
        {
         "name": "Title",
         "rawType": "object",
         "type": "string"
        },
        {
         "name": "AirDate",
         "rawType": "datetime64[ns]",
         "type": "datetime"
        },
        {
         "name": "Rating",
         "rawType": "float64",
         "type": "float"
        },
        {
         "name": "Num_Votes",
         "rawType": "int64",
         "type": "integer"
        },
        {
         "name": "Description",
         "rawType": "object",
         "type": "string"
        },
        {
         "name": "DirectedBy",
         "rawType": "object",
         "type": "string"
        },
        {
         "name": "WrittenBy",
         "rawType": "object",
         "type": "string"
        },
        {
         "name": "Director+Writer Combined",
         "rawType": "object",
         "type": "string"
        },
        {
         "name": "Total_lines",
         "rawType": "int64",
         "type": "integer"
        },
        {
         "name": "Total_scenes",
         "rawType": "int64",
         "type": "integer"
        },
        {
         "name": "year",
         "rawType": "int64",
         "type": "integer"
        },
        {
         "name": "month",
         "rawType": "int64",
         "type": "integer"
        },
        {
         "name": "day",
         "rawType": "int64",
         "type": "integer"
        },
        {
         "name": "Difference in days between air dates(season-wise)",
         "rawType": "int64",
         "type": "integer"
        }
       ],
       "conversionMethod": "pd.DataFrame",
       "ref": "bfd2c8be-5d8e-47ac-bffc-43c1ffbf23bd",
       "rows": [
        [
         "0",
         "0",
         "1",
         "1",
         "1",
         "Pilot",
         "2005-03-24 00:00:00",
         "7.5",
         "4349",
         "The premiere episode introduces the boss and staff of the Dunder-Mifflin Paper Company in Scranton, Pennsylvania in a documentary about the workplace.",
         "Ken Kwapis",
         "Ricky Gervais | Stephen Merchant | Greg Daniels",
         "('Ken Kwapis', 'Ricky Gervais | Stephen Merchant | Greg Daniels')",
         "229",
         "39",
         "2005",
         "3",
         "3",
         "0"
        ],
        [
         "1",
         "1",
         "1",
         "2",
         "2",
         "Diversity Day",
         "2005-03-29 00:00:00",
         "8.3",
         "4213",
         "Michael's off color remark puts a sensitivity trainer in the office for a presentation, which prompts Michael to create his own.",
         "Ken Kwapis",
         "B. J. Novak",
         "('Ken Kwapis', 'B. J. Novak')",
         "217",
         "35",
         "2005",
         "3",
         "1",
         "5"
        ],
        [
         "2",
         "2",
         "1",
         "3",
         "3",
         "Health Care",
         "2005-04-05 00:00:00",
         "7.8",
         "3536",
         "Michael leaves Dwight in charge of picking the new healthcare plan for the staff, with disastrous results ahead.",
         "Ken Whittingham",
         "Paul Lieberstein",
         "('Ken Whittingham', 'Paul Lieberstein')",
         "244",
         "39",
         "2005",
         "4",
         "1",
         "12"
        ],
        [
         "3",
         "3",
         "1",
         "4",
         "4",
         "The Alliance",
         "2005-04-12 00:00:00",
         "8.1",
         "3428",
         "Just for a laugh, Jim agrees to an alliance with Dwight regarding the downsizing rumors.",
         "Bryan Gordon",
         "Michael Schur",
         "('Bryan Gordon', 'Michael Schur')",
         "265",
         "49",
         "2005",
         "4",
         "1",
         "19"
        ],
        [
         "4",
         "4",
         "1",
         "5",
         "5",
         "Basketball",
         "2005-04-19 00:00:00",
         "8.4",
         "3745",
         "Michael and his staff challenge the warehouse workers to a basketball game with a bet looming over both parties.",
         "Greg Daniels",
         "Greg Daniels",
         "('Greg Daniels', 'Greg Daniels')",
         "235",
         "40",
         "2005",
         "4",
         "1",
         "26"
        ]
       ],
       "shape": {
        "columns": 18,
        "rows": 5
       }
      },
      "text/html": [
       "<div>\n",
       "<style scoped>\n",
       "    .dataframe tbody tr th:only-of-type {\n",
       "        vertical-align: middle;\n",
       "    }\n",
       "\n",
       "    .dataframe tbody tr th {\n",
       "        vertical-align: top;\n",
       "    }\n",
       "\n",
       "    .dataframe thead th {\n",
       "        text-align: right;\n",
       "    }\n",
       "</style>\n",
       "<table border=\"1\" class=\"dataframe\">\n",
       "  <thead>\n",
       "    <tr style=\"text-align: right;\">\n",
       "      <th></th>\n",
       "      <th>Unnamed: 0</th>\n",
       "      <th>season</th>\n",
       "      <th>episode</th>\n",
       "      <th>episode_no(1-186)</th>\n",
       "      <th>Title</th>\n",
       "      <th>AirDate</th>\n",
       "      <th>Rating</th>\n",
       "      <th>Num_Votes</th>\n",
       "      <th>Description</th>\n",
       "      <th>DirectedBy</th>\n",
       "      <th>WrittenBy</th>\n",
       "      <th>Director+Writer Combined</th>\n",
       "      <th>Total_lines</th>\n",
       "      <th>Total_scenes</th>\n",
       "      <th>year</th>\n",
       "      <th>month</th>\n",
       "      <th>day</th>\n",
       "      <th>Difference in days between air dates(season-wise)</th>\n",
       "    </tr>\n",
       "  </thead>\n",
       "  <tbody>\n",
       "    <tr>\n",
       "      <th>0</th>\n",
       "      <td>0</td>\n",
       "      <td>1</td>\n",
       "      <td>1</td>\n",
       "      <td>1</td>\n",
       "      <td>Pilot</td>\n",
       "      <td>2005-03-24</td>\n",
       "      <td>7.5</td>\n",
       "      <td>4349</td>\n",
       "      <td>The premiere episode introduces the boss and s...</td>\n",
       "      <td>Ken Kwapis</td>\n",
       "      <td>Ricky Gervais | Stephen Merchant | Greg Daniels</td>\n",
       "      <td>('Ken Kwapis', 'Ricky Gervais | Stephen Mercha...</td>\n",
       "      <td>229</td>\n",
       "      <td>39</td>\n",
       "      <td>2005</td>\n",
       "      <td>3</td>\n",
       "      <td>3</td>\n",
       "      <td>0</td>\n",
       "    </tr>\n",
       "    <tr>\n",
       "      <th>1</th>\n",
       "      <td>1</td>\n",
       "      <td>1</td>\n",
       "      <td>2</td>\n",
       "      <td>2</td>\n",
       "      <td>Diversity Day</td>\n",
       "      <td>2005-03-29</td>\n",
       "      <td>8.3</td>\n",
       "      <td>4213</td>\n",
       "      <td>Michael's off color remark puts a sensitivity ...</td>\n",
       "      <td>Ken Kwapis</td>\n",
       "      <td>B. J. Novak</td>\n",
       "      <td>('Ken Kwapis', 'B. J. Novak')</td>\n",
       "      <td>217</td>\n",
       "      <td>35</td>\n",
       "      <td>2005</td>\n",
       "      <td>3</td>\n",
       "      <td>1</td>\n",
       "      <td>5</td>\n",
       "    </tr>\n",
       "    <tr>\n",
       "      <th>2</th>\n",
       "      <td>2</td>\n",
       "      <td>1</td>\n",
       "      <td>3</td>\n",
       "      <td>3</td>\n",
       "      <td>Health Care</td>\n",
       "      <td>2005-04-05</td>\n",
       "      <td>7.8</td>\n",
       "      <td>3536</td>\n",
       "      <td>Michael leaves Dwight in charge of picking the...</td>\n",
       "      <td>Ken Whittingham</td>\n",
       "      <td>Paul Lieberstein</td>\n",
       "      <td>('Ken Whittingham', 'Paul Lieberstein')</td>\n",
       "      <td>244</td>\n",
       "      <td>39</td>\n",
       "      <td>2005</td>\n",
       "      <td>4</td>\n",
       "      <td>1</td>\n",
       "      <td>12</td>\n",
       "    </tr>\n",
       "    <tr>\n",
       "      <th>3</th>\n",
       "      <td>3</td>\n",
       "      <td>1</td>\n",
       "      <td>4</td>\n",
       "      <td>4</td>\n",
       "      <td>The Alliance</td>\n",
       "      <td>2005-04-12</td>\n",
       "      <td>8.1</td>\n",
       "      <td>3428</td>\n",
       "      <td>Just for a laugh, Jim agrees to an alliance wi...</td>\n",
       "      <td>Bryan Gordon</td>\n",
       "      <td>Michael Schur</td>\n",
       "      <td>('Bryan Gordon', 'Michael Schur')</td>\n",
       "      <td>265</td>\n",
       "      <td>49</td>\n",
       "      <td>2005</td>\n",
       "      <td>4</td>\n",
       "      <td>1</td>\n",
       "      <td>19</td>\n",
       "    </tr>\n",
       "    <tr>\n",
       "      <th>4</th>\n",
       "      <td>4</td>\n",
       "      <td>1</td>\n",
       "      <td>5</td>\n",
       "      <td>5</td>\n",
       "      <td>Basketball</td>\n",
       "      <td>2005-04-19</td>\n",
       "      <td>8.4</td>\n",
       "      <td>3745</td>\n",
       "      <td>Michael and his staff challenge the warehouse ...</td>\n",
       "      <td>Greg Daniels</td>\n",
       "      <td>Greg Daniels</td>\n",
       "      <td>('Greg Daniels', 'Greg Daniels')</td>\n",
       "      <td>235</td>\n",
       "      <td>40</td>\n",
       "      <td>2005</td>\n",
       "      <td>4</td>\n",
       "      <td>1</td>\n",
       "      <td>26</td>\n",
       "    </tr>\n",
       "  </tbody>\n",
       "</table>\n",
       "</div>"
      ],
      "text/plain": [
       "   Unnamed: 0  season  episode  episode_no(1-186)          Title    AirDate  \\\n",
       "0           0       1        1                  1          Pilot 2005-03-24   \n",
       "1           1       1        2                  2  Diversity Day 2005-03-29   \n",
       "2           2       1        3                  3    Health Care 2005-04-05   \n",
       "3           3       1        4                  4   The Alliance 2005-04-12   \n",
       "4           4       1        5                  5     Basketball 2005-04-19   \n",
       "\n",
       "   Rating  Num_Votes                                        Description  \\\n",
       "0     7.5       4349  The premiere episode introduces the boss and s...   \n",
       "1     8.3       4213  Michael's off color remark puts a sensitivity ...   \n",
       "2     7.8       3536  Michael leaves Dwight in charge of picking the...   \n",
       "3     8.1       3428  Just for a laugh, Jim agrees to an alliance wi...   \n",
       "4     8.4       3745  Michael and his staff challenge the warehouse ...   \n",
       "\n",
       "        DirectedBy                                        WrittenBy  \\\n",
       "0       Ken Kwapis  Ricky Gervais | Stephen Merchant | Greg Daniels   \n",
       "1       Ken Kwapis                                      B. J. Novak   \n",
       "2  Ken Whittingham                                 Paul Lieberstein   \n",
       "3     Bryan Gordon                                    Michael Schur   \n",
       "4     Greg Daniels                                     Greg Daniels   \n",
       "\n",
       "                            Director+Writer Combined  Total_lines  \\\n",
       "0  ('Ken Kwapis', 'Ricky Gervais | Stephen Mercha...          229   \n",
       "1                      ('Ken Kwapis', 'B. J. Novak')          217   \n",
       "2            ('Ken Whittingham', 'Paul Lieberstein')          244   \n",
       "3                  ('Bryan Gordon', 'Michael Schur')          265   \n",
       "4                   ('Greg Daniels', 'Greg Daniels')          235   \n",
       "\n",
       "   Total_scenes  year  month  day  \\\n",
       "0            39  2005      3    3   \n",
       "1            35  2005      3    1   \n",
       "2            39  2005      4    1   \n",
       "3            49  2005      4    1   \n",
       "4            40  2005      4    1   \n",
       "\n",
       "   Difference in days between air dates(season-wise)  \n",
       "0                                                  0  \n",
       "1                                                  5  \n",
       "2                                                 12  \n",
       "3                                                 19  \n",
       "4                                                 26  "
      ]
     },
     "execution_count": 14,
     "metadata": {},
     "output_type": "execute_result"
    }
   ],
   "source": [
    "ratings.head()"
   ]
  },
  {
   "cell_type": "code",
   "execution_count": 15,
   "metadata": {},
   "outputs": [],
   "source": [
    "## lets delete some unrequired columns\n",
    "ratings.drop(columns=[\"Unnamed: 0\", \"Director+Writer Combined\"], inplace=True)"
   ]
  },
  {
   "cell_type": "code",
   "execution_count": 16,
   "metadata": {},
   "outputs": [
    {
     "data": {
      "application/vnd.microsoft.datawrangler.viewer.v0+json": {
       "columns": [
        {
         "name": "index",
         "rawType": "int64",
         "type": "integer"
        },
        {
         "name": "season",
         "rawType": "int64",
         "type": "integer"
        },
        {
         "name": "episode",
         "rawType": "int64",
         "type": "integer"
        },
        {
         "name": "episode_no(1-186)",
         "rawType": "int64",
         "type": "integer"
        },
        {
         "name": "Title",
         "rawType": "object",
         "type": "string"
        },
        {
         "name": "AirDate",
         "rawType": "datetime64[ns]",
         "type": "datetime"
        },
        {
         "name": "Rating",
         "rawType": "float64",
         "type": "float"
        },
        {
         "name": "Num_Votes",
         "rawType": "int64",
         "type": "integer"
        },
        {
         "name": "Description",
         "rawType": "object",
         "type": "string"
        },
        {
         "name": "DirectedBy",
         "rawType": "object",
         "type": "string"
        },
        {
         "name": "WrittenBy",
         "rawType": "object",
         "type": "string"
        },
        {
         "name": "Total_lines",
         "rawType": "int64",
         "type": "integer"
        },
        {
         "name": "Total_scenes",
         "rawType": "int64",
         "type": "integer"
        },
        {
         "name": "year",
         "rawType": "int64",
         "type": "integer"
        },
        {
         "name": "month",
         "rawType": "int64",
         "type": "integer"
        },
        {
         "name": "day",
         "rawType": "int64",
         "type": "integer"
        },
        {
         "name": "Difference in days between air dates(season-wise)",
         "rawType": "int64",
         "type": "integer"
        }
       ],
       "conversionMethod": "pd.DataFrame",
       "ref": "62dab487-ac33-4966-91cc-22d0d559d7a4",
       "rows": [
        [
         "0",
         "1",
         "1",
         "1",
         "Pilot",
         "2005-03-24 00:00:00",
         "7.5",
         "4349",
         "The premiere episode introduces the boss and staff of the Dunder-Mifflin Paper Company in Scranton, Pennsylvania in a documentary about the workplace.",
         "Ken Kwapis",
         "Ricky Gervais | Stephen Merchant | Greg Daniels",
         "229",
         "39",
         "2005",
         "3",
         "3",
         "0"
        ],
        [
         "1",
         "1",
         "2",
         "2",
         "Diversity Day",
         "2005-03-29 00:00:00",
         "8.3",
         "4213",
         "Michael's off color remark puts a sensitivity trainer in the office for a presentation, which prompts Michael to create his own.",
         "Ken Kwapis",
         "B. J. Novak",
         "217",
         "35",
         "2005",
         "3",
         "1",
         "5"
        ],
        [
         "2",
         "1",
         "3",
         "3",
         "Health Care",
         "2005-04-05 00:00:00",
         "7.8",
         "3536",
         "Michael leaves Dwight in charge of picking the new healthcare plan for the staff, with disastrous results ahead.",
         "Ken Whittingham",
         "Paul Lieberstein",
         "244",
         "39",
         "2005",
         "4",
         "1",
         "12"
        ],
        [
         "3",
         "1",
         "4",
         "4",
         "The Alliance",
         "2005-04-12 00:00:00",
         "8.1",
         "3428",
         "Just for a laugh, Jim agrees to an alliance with Dwight regarding the downsizing rumors.",
         "Bryan Gordon",
         "Michael Schur",
         "265",
         "49",
         "2005",
         "4",
         "1",
         "19"
        ],
        [
         "4",
         "1",
         "5",
         "5",
         "Basketball",
         "2005-04-19 00:00:00",
         "8.4",
         "3745",
         "Michael and his staff challenge the warehouse workers to a basketball game with a bet looming over both parties.",
         "Greg Daniels",
         "Greg Daniels",
         "235",
         "40",
         "2005",
         "4",
         "1",
         "26"
        ]
       ],
       "shape": {
        "columns": 16,
        "rows": 5
       }
      },
      "text/html": [
       "<div>\n",
       "<style scoped>\n",
       "    .dataframe tbody tr th:only-of-type {\n",
       "        vertical-align: middle;\n",
       "    }\n",
       "\n",
       "    .dataframe tbody tr th {\n",
       "        vertical-align: top;\n",
       "    }\n",
       "\n",
       "    .dataframe thead th {\n",
       "        text-align: right;\n",
       "    }\n",
       "</style>\n",
       "<table border=\"1\" class=\"dataframe\">\n",
       "  <thead>\n",
       "    <tr style=\"text-align: right;\">\n",
       "      <th></th>\n",
       "      <th>season</th>\n",
       "      <th>episode</th>\n",
       "      <th>episode_no(1-186)</th>\n",
       "      <th>Title</th>\n",
       "      <th>AirDate</th>\n",
       "      <th>Rating</th>\n",
       "      <th>Num_Votes</th>\n",
       "      <th>Description</th>\n",
       "      <th>DirectedBy</th>\n",
       "      <th>WrittenBy</th>\n",
       "      <th>Total_lines</th>\n",
       "      <th>Total_scenes</th>\n",
       "      <th>year</th>\n",
       "      <th>month</th>\n",
       "      <th>day</th>\n",
       "      <th>Difference in days between air dates(season-wise)</th>\n",
       "    </tr>\n",
       "  </thead>\n",
       "  <tbody>\n",
       "    <tr>\n",
       "      <th>0</th>\n",
       "      <td>1</td>\n",
       "      <td>1</td>\n",
       "      <td>1</td>\n",
       "      <td>Pilot</td>\n",
       "      <td>2005-03-24</td>\n",
       "      <td>7.5</td>\n",
       "      <td>4349</td>\n",
       "      <td>The premiere episode introduces the boss and s...</td>\n",
       "      <td>Ken Kwapis</td>\n",
       "      <td>Ricky Gervais | Stephen Merchant | Greg Daniels</td>\n",
       "      <td>229</td>\n",
       "      <td>39</td>\n",
       "      <td>2005</td>\n",
       "      <td>3</td>\n",
       "      <td>3</td>\n",
       "      <td>0</td>\n",
       "    </tr>\n",
       "    <tr>\n",
       "      <th>1</th>\n",
       "      <td>1</td>\n",
       "      <td>2</td>\n",
       "      <td>2</td>\n",
       "      <td>Diversity Day</td>\n",
       "      <td>2005-03-29</td>\n",
       "      <td>8.3</td>\n",
       "      <td>4213</td>\n",
       "      <td>Michael's off color remark puts a sensitivity ...</td>\n",
       "      <td>Ken Kwapis</td>\n",
       "      <td>B. J. Novak</td>\n",
       "      <td>217</td>\n",
       "      <td>35</td>\n",
       "      <td>2005</td>\n",
       "      <td>3</td>\n",
       "      <td>1</td>\n",
       "      <td>5</td>\n",
       "    </tr>\n",
       "    <tr>\n",
       "      <th>2</th>\n",
       "      <td>1</td>\n",
       "      <td>3</td>\n",
       "      <td>3</td>\n",
       "      <td>Health Care</td>\n",
       "      <td>2005-04-05</td>\n",
       "      <td>7.8</td>\n",
       "      <td>3536</td>\n",
       "      <td>Michael leaves Dwight in charge of picking the...</td>\n",
       "      <td>Ken Whittingham</td>\n",
       "      <td>Paul Lieberstein</td>\n",
       "      <td>244</td>\n",
       "      <td>39</td>\n",
       "      <td>2005</td>\n",
       "      <td>4</td>\n",
       "      <td>1</td>\n",
       "      <td>12</td>\n",
       "    </tr>\n",
       "    <tr>\n",
       "      <th>3</th>\n",
       "      <td>1</td>\n",
       "      <td>4</td>\n",
       "      <td>4</td>\n",
       "      <td>The Alliance</td>\n",
       "      <td>2005-04-12</td>\n",
       "      <td>8.1</td>\n",
       "      <td>3428</td>\n",
       "      <td>Just for a laugh, Jim agrees to an alliance wi...</td>\n",
       "      <td>Bryan Gordon</td>\n",
       "      <td>Michael Schur</td>\n",
       "      <td>265</td>\n",
       "      <td>49</td>\n",
       "      <td>2005</td>\n",
       "      <td>4</td>\n",
       "      <td>1</td>\n",
       "      <td>19</td>\n",
       "    </tr>\n",
       "    <tr>\n",
       "      <th>4</th>\n",
       "      <td>1</td>\n",
       "      <td>5</td>\n",
       "      <td>5</td>\n",
       "      <td>Basketball</td>\n",
       "      <td>2005-04-19</td>\n",
       "      <td>8.4</td>\n",
       "      <td>3745</td>\n",
       "      <td>Michael and his staff challenge the warehouse ...</td>\n",
       "      <td>Greg Daniels</td>\n",
       "      <td>Greg Daniels</td>\n",
       "      <td>235</td>\n",
       "      <td>40</td>\n",
       "      <td>2005</td>\n",
       "      <td>4</td>\n",
       "      <td>1</td>\n",
       "      <td>26</td>\n",
       "    </tr>\n",
       "  </tbody>\n",
       "</table>\n",
       "</div>"
      ],
      "text/plain": [
       "   season  episode  episode_no(1-186)          Title    AirDate  Rating  \\\n",
       "0       1        1                  1          Pilot 2005-03-24     7.5   \n",
       "1       1        2                  2  Diversity Day 2005-03-29     8.3   \n",
       "2       1        3                  3    Health Care 2005-04-05     7.8   \n",
       "3       1        4                  4   The Alliance 2005-04-12     8.1   \n",
       "4       1        5                  5     Basketball 2005-04-19     8.4   \n",
       "\n",
       "   Num_Votes                                        Description  \\\n",
       "0       4349  The premiere episode introduces the boss and s...   \n",
       "1       4213  Michael's off color remark puts a sensitivity ...   \n",
       "2       3536  Michael leaves Dwight in charge of picking the...   \n",
       "3       3428  Just for a laugh, Jim agrees to an alliance wi...   \n",
       "4       3745  Michael and his staff challenge the warehouse ...   \n",
       "\n",
       "        DirectedBy                                        WrittenBy  \\\n",
       "0       Ken Kwapis  Ricky Gervais | Stephen Merchant | Greg Daniels   \n",
       "1       Ken Kwapis                                      B. J. Novak   \n",
       "2  Ken Whittingham                                 Paul Lieberstein   \n",
       "3     Bryan Gordon                                    Michael Schur   \n",
       "4     Greg Daniels                                     Greg Daniels   \n",
       "\n",
       "   Total_lines  Total_scenes  year  month  day  \\\n",
       "0          229            39  2005      3    3   \n",
       "1          217            35  2005      3    1   \n",
       "2          244            39  2005      4    1   \n",
       "3          265            49  2005      4    1   \n",
       "4          235            40  2005      4    1   \n",
       "\n",
       "   Difference in days between air dates(season-wise)  \n",
       "0                                                  0  \n",
       "1                                                  5  \n",
       "2                                                 12  \n",
       "3                                                 19  \n",
       "4                                                 26  "
      ]
     },
     "execution_count": 16,
     "metadata": {},
     "output_type": "execute_result"
    }
   ],
   "source": [
    "ratings.head()"
   ]
  },
  {
   "cell_type": "code",
   "execution_count": 18,
   "metadata": {},
   "outputs": [
    {
     "data": {
      "application/vnd.microsoft.datawrangler.viewer.v0+json": {
       "columns": [
        {
         "name": "index",
         "rawType": "int64",
         "type": "integer"
        },
        {
         "name": "0",
         "rawType": "object",
         "type": "string"
        }
       ],
       "conversionMethod": "pd.DataFrame",
       "ref": "de2aed3c-b431-4734-9f75-2c560247fef6",
       "rows": [
        [
         "0",
         "season"
        ],
        [
         "1",
         "episode"
        ],
        [
         "2",
         "episode_no(1-186)"
        ],
        [
         "3",
         "Title"
        ],
        [
         "4",
         "AirDate"
        ],
        [
         "5",
         "Rating"
        ],
        [
         "6",
         "Num_Votes"
        ],
        [
         "7",
         "Description"
        ],
        [
         "8",
         "DirectedBy"
        ],
        [
         "9",
         "WrittenBy"
        ],
        [
         "10",
         "Total_lines"
        ],
        [
         "11",
         "Total_scenes"
        ],
        [
         "12",
         "year"
        ],
        [
         "13",
         "month"
        ],
        [
         "14",
         "day"
        ],
        [
         "15",
         "Difference in days between air dates(season-wise)"
        ]
       ],
       "shape": {
        "columns": 1,
        "rows": 16
       }
      },
      "text/html": [
       "<div>\n",
       "<style scoped>\n",
       "    .dataframe tbody tr th:only-of-type {\n",
       "        vertical-align: middle;\n",
       "    }\n",
       "\n",
       "    .dataframe tbody tr th {\n",
       "        vertical-align: top;\n",
       "    }\n",
       "\n",
       "    .dataframe thead th {\n",
       "        text-align: right;\n",
       "    }\n",
       "</style>\n",
       "<table border=\"1\" class=\"dataframe\">\n",
       "  <thead>\n",
       "    <tr style=\"text-align: right;\">\n",
       "      <th></th>\n",
       "      <th>0</th>\n",
       "    </tr>\n",
       "  </thead>\n",
       "  <tbody>\n",
       "    <tr>\n",
       "      <th>0</th>\n",
       "      <td>season</td>\n",
       "    </tr>\n",
       "    <tr>\n",
       "      <th>1</th>\n",
       "      <td>episode</td>\n",
       "    </tr>\n",
       "    <tr>\n",
       "      <th>2</th>\n",
       "      <td>episode_no(1-186)</td>\n",
       "    </tr>\n",
       "    <tr>\n",
       "      <th>3</th>\n",
       "      <td>Title</td>\n",
       "    </tr>\n",
       "    <tr>\n",
       "      <th>4</th>\n",
       "      <td>AirDate</td>\n",
       "    </tr>\n",
       "    <tr>\n",
       "      <th>5</th>\n",
       "      <td>Rating</td>\n",
       "    </tr>\n",
       "    <tr>\n",
       "      <th>6</th>\n",
       "      <td>Num_Votes</td>\n",
       "    </tr>\n",
       "    <tr>\n",
       "      <th>7</th>\n",
       "      <td>Description</td>\n",
       "    </tr>\n",
       "    <tr>\n",
       "      <th>8</th>\n",
       "      <td>DirectedBy</td>\n",
       "    </tr>\n",
       "    <tr>\n",
       "      <th>9</th>\n",
       "      <td>WrittenBy</td>\n",
       "    </tr>\n",
       "    <tr>\n",
       "      <th>10</th>\n",
       "      <td>Total_lines</td>\n",
       "    </tr>\n",
       "    <tr>\n",
       "      <th>11</th>\n",
       "      <td>Total_scenes</td>\n",
       "    </tr>\n",
       "    <tr>\n",
       "      <th>12</th>\n",
       "      <td>year</td>\n",
       "    </tr>\n",
       "    <tr>\n",
       "      <th>13</th>\n",
       "      <td>month</td>\n",
       "    </tr>\n",
       "    <tr>\n",
       "      <th>14</th>\n",
       "      <td>day</td>\n",
       "    </tr>\n",
       "    <tr>\n",
       "      <th>15</th>\n",
       "      <td>Difference in days between air dates(season-wise)</td>\n",
       "    </tr>\n",
       "  </tbody>\n",
       "</table>\n",
       "</div>"
      ],
      "text/plain": [
       "                                                    0\n",
       "0                                              season\n",
       "1                                             episode\n",
       "2                                   episode_no(1-186)\n",
       "3                                               Title\n",
       "4                                             AirDate\n",
       "5                                              Rating\n",
       "6                                           Num_Votes\n",
       "7                                         Description\n",
       "8                                          DirectedBy\n",
       "9                                           WrittenBy\n",
       "10                                        Total_lines\n",
       "11                                       Total_scenes\n",
       "12                                               year\n",
       "13                                              month\n",
       "14                                                day\n",
       "15  Difference in days between air dates(season-wise)"
      ]
     },
     "execution_count": 18,
     "metadata": {},
     "output_type": "execute_result"
    }
   ],
   "source": [
    "## print column names\n",
    "pd.DataFrame(ratings.columns)"
   ]
  },
  {
   "cell_type": "code",
   "execution_count": 19,
   "metadata": {},
   "outputs": [],
   "source": [
    "## lets rename the columns for consistancy.\n",
    "ratings.rename(columns={\n",
    "    \"episode_no(1-186)\": \"episode_no\",\n",
    "    \"Title\":\"title\",\n",
    "    \"AirDate\":\"air_date\",\n",
    "    \"Rating\":\"rating\",\n",
    "    \"Num_Votes\":\"num_votes\",\n",
    "    \"Description\":\"description\",\n",
    "    \"DirectedBy\":\"directed_by\",\n",
    "    \"WrittenBy\": \"written_by\",\n",
    "    \"Total_lines\":\"total_lines\",\n",
    "    \"Total_scenes\":\"total_scenes\",\n",
    "    \"Difference in days between air dates(season-wise)\":\"air_dates_diff_days\"\n",
    "}, inplace=True)"
   ]
  },
  {
   "cell_type": "code",
   "execution_count": 20,
   "metadata": {},
   "outputs": [
    {
     "data": {
      "application/vnd.microsoft.datawrangler.viewer.v0+json": {
       "columns": [
        {
         "name": "index",
         "rawType": "int64",
         "type": "integer"
        },
        {
         "name": "season",
         "rawType": "int64",
         "type": "integer"
        },
        {
         "name": "episode",
         "rawType": "int64",
         "type": "integer"
        },
        {
         "name": "episode_no",
         "rawType": "int64",
         "type": "integer"
        },
        {
         "name": "title",
         "rawType": "object",
         "type": "string"
        },
        {
         "name": "air_date",
         "rawType": "datetime64[ns]",
         "type": "datetime"
        },
        {
         "name": "rating",
         "rawType": "float64",
         "type": "float"
        },
        {
         "name": "num_votes",
         "rawType": "int64",
         "type": "integer"
        },
        {
         "name": "description",
         "rawType": "object",
         "type": "string"
        },
        {
         "name": "directed_by",
         "rawType": "object",
         "type": "string"
        },
        {
         "name": "written_by",
         "rawType": "object",
         "type": "string"
        },
        {
         "name": "total_lines",
         "rawType": "int64",
         "type": "integer"
        },
        {
         "name": "total_scenes",
         "rawType": "int64",
         "type": "integer"
        },
        {
         "name": "year",
         "rawType": "int64",
         "type": "integer"
        },
        {
         "name": "month",
         "rawType": "int64",
         "type": "integer"
        },
        {
         "name": "day",
         "rawType": "int64",
         "type": "integer"
        },
        {
         "name": "air_dates_diff_days",
         "rawType": "int64",
         "type": "integer"
        }
       ],
       "conversionMethod": "pd.DataFrame",
       "ref": "942675f0-de9f-44c1-a806-199e3cc972fe",
       "rows": [
        [
         "0",
         "1",
         "1",
         "1",
         "Pilot",
         "2005-03-24 00:00:00",
         "7.5",
         "4349",
         "The premiere episode introduces the boss and staff of the Dunder-Mifflin Paper Company in Scranton, Pennsylvania in a documentary about the workplace.",
         "Ken Kwapis",
         "Ricky Gervais | Stephen Merchant | Greg Daniels",
         "229",
         "39",
         "2005",
         "3",
         "3",
         "0"
        ],
        [
         "1",
         "1",
         "2",
         "2",
         "Diversity Day",
         "2005-03-29 00:00:00",
         "8.3",
         "4213",
         "Michael's off color remark puts a sensitivity trainer in the office for a presentation, which prompts Michael to create his own.",
         "Ken Kwapis",
         "B. J. Novak",
         "217",
         "35",
         "2005",
         "3",
         "1",
         "5"
        ],
        [
         "2",
         "1",
         "3",
         "3",
         "Health Care",
         "2005-04-05 00:00:00",
         "7.8",
         "3536",
         "Michael leaves Dwight in charge of picking the new healthcare plan for the staff, with disastrous results ahead.",
         "Ken Whittingham",
         "Paul Lieberstein",
         "244",
         "39",
         "2005",
         "4",
         "1",
         "12"
        ],
        [
         "3",
         "1",
         "4",
         "4",
         "The Alliance",
         "2005-04-12 00:00:00",
         "8.1",
         "3428",
         "Just for a laugh, Jim agrees to an alliance with Dwight regarding the downsizing rumors.",
         "Bryan Gordon",
         "Michael Schur",
         "265",
         "49",
         "2005",
         "4",
         "1",
         "19"
        ],
        [
         "4",
         "1",
         "5",
         "5",
         "Basketball",
         "2005-04-19 00:00:00",
         "8.4",
         "3745",
         "Michael and his staff challenge the warehouse workers to a basketball game with a bet looming over both parties.",
         "Greg Daniels",
         "Greg Daniels",
         "235",
         "40",
         "2005",
         "4",
         "1",
         "26"
        ]
       ],
       "shape": {
        "columns": 16,
        "rows": 5
       }
      },
      "text/html": [
       "<div>\n",
       "<style scoped>\n",
       "    .dataframe tbody tr th:only-of-type {\n",
       "        vertical-align: middle;\n",
       "    }\n",
       "\n",
       "    .dataframe tbody tr th {\n",
       "        vertical-align: top;\n",
       "    }\n",
       "\n",
       "    .dataframe thead th {\n",
       "        text-align: right;\n",
       "    }\n",
       "</style>\n",
       "<table border=\"1\" class=\"dataframe\">\n",
       "  <thead>\n",
       "    <tr style=\"text-align: right;\">\n",
       "      <th></th>\n",
       "      <th>season</th>\n",
       "      <th>episode</th>\n",
       "      <th>episode_no</th>\n",
       "      <th>title</th>\n",
       "      <th>air_date</th>\n",
       "      <th>rating</th>\n",
       "      <th>num_votes</th>\n",
       "      <th>description</th>\n",
       "      <th>directed_by</th>\n",
       "      <th>written_by</th>\n",
       "      <th>total_lines</th>\n",
       "      <th>total_scenes</th>\n",
       "      <th>year</th>\n",
       "      <th>month</th>\n",
       "      <th>day</th>\n",
       "      <th>air_dates_diff_days</th>\n",
       "    </tr>\n",
       "  </thead>\n",
       "  <tbody>\n",
       "    <tr>\n",
       "      <th>0</th>\n",
       "      <td>1</td>\n",
       "      <td>1</td>\n",
       "      <td>1</td>\n",
       "      <td>Pilot</td>\n",
       "      <td>2005-03-24</td>\n",
       "      <td>7.5</td>\n",
       "      <td>4349</td>\n",
       "      <td>The premiere episode introduces the boss and s...</td>\n",
       "      <td>Ken Kwapis</td>\n",
       "      <td>Ricky Gervais | Stephen Merchant | Greg Daniels</td>\n",
       "      <td>229</td>\n",
       "      <td>39</td>\n",
       "      <td>2005</td>\n",
       "      <td>3</td>\n",
       "      <td>3</td>\n",
       "      <td>0</td>\n",
       "    </tr>\n",
       "    <tr>\n",
       "      <th>1</th>\n",
       "      <td>1</td>\n",
       "      <td>2</td>\n",
       "      <td>2</td>\n",
       "      <td>Diversity Day</td>\n",
       "      <td>2005-03-29</td>\n",
       "      <td>8.3</td>\n",
       "      <td>4213</td>\n",
       "      <td>Michael's off color remark puts a sensitivity ...</td>\n",
       "      <td>Ken Kwapis</td>\n",
       "      <td>B. J. Novak</td>\n",
       "      <td>217</td>\n",
       "      <td>35</td>\n",
       "      <td>2005</td>\n",
       "      <td>3</td>\n",
       "      <td>1</td>\n",
       "      <td>5</td>\n",
       "    </tr>\n",
       "    <tr>\n",
       "      <th>2</th>\n",
       "      <td>1</td>\n",
       "      <td>3</td>\n",
       "      <td>3</td>\n",
       "      <td>Health Care</td>\n",
       "      <td>2005-04-05</td>\n",
       "      <td>7.8</td>\n",
       "      <td>3536</td>\n",
       "      <td>Michael leaves Dwight in charge of picking the...</td>\n",
       "      <td>Ken Whittingham</td>\n",
       "      <td>Paul Lieberstein</td>\n",
       "      <td>244</td>\n",
       "      <td>39</td>\n",
       "      <td>2005</td>\n",
       "      <td>4</td>\n",
       "      <td>1</td>\n",
       "      <td>12</td>\n",
       "    </tr>\n",
       "    <tr>\n",
       "      <th>3</th>\n",
       "      <td>1</td>\n",
       "      <td>4</td>\n",
       "      <td>4</td>\n",
       "      <td>The Alliance</td>\n",
       "      <td>2005-04-12</td>\n",
       "      <td>8.1</td>\n",
       "      <td>3428</td>\n",
       "      <td>Just for a laugh, Jim agrees to an alliance wi...</td>\n",
       "      <td>Bryan Gordon</td>\n",
       "      <td>Michael Schur</td>\n",
       "      <td>265</td>\n",
       "      <td>49</td>\n",
       "      <td>2005</td>\n",
       "      <td>4</td>\n",
       "      <td>1</td>\n",
       "      <td>19</td>\n",
       "    </tr>\n",
       "    <tr>\n",
       "      <th>4</th>\n",
       "      <td>1</td>\n",
       "      <td>5</td>\n",
       "      <td>5</td>\n",
       "      <td>Basketball</td>\n",
       "      <td>2005-04-19</td>\n",
       "      <td>8.4</td>\n",
       "      <td>3745</td>\n",
       "      <td>Michael and his staff challenge the warehouse ...</td>\n",
       "      <td>Greg Daniels</td>\n",
       "      <td>Greg Daniels</td>\n",
       "      <td>235</td>\n",
       "      <td>40</td>\n",
       "      <td>2005</td>\n",
       "      <td>4</td>\n",
       "      <td>1</td>\n",
       "      <td>26</td>\n",
       "    </tr>\n",
       "  </tbody>\n",
       "</table>\n",
       "</div>"
      ],
      "text/plain": [
       "   season  episode  episode_no          title   air_date  rating  num_votes  \\\n",
       "0       1        1           1          Pilot 2005-03-24     7.5       4349   \n",
       "1       1        2           2  Diversity Day 2005-03-29     8.3       4213   \n",
       "2       1        3           3    Health Care 2005-04-05     7.8       3536   \n",
       "3       1        4           4   The Alliance 2005-04-12     8.1       3428   \n",
       "4       1        5           5     Basketball 2005-04-19     8.4       3745   \n",
       "\n",
       "                                         description      directed_by  \\\n",
       "0  The premiere episode introduces the boss and s...       Ken Kwapis   \n",
       "1  Michael's off color remark puts a sensitivity ...       Ken Kwapis   \n",
       "2  Michael leaves Dwight in charge of picking the...  Ken Whittingham   \n",
       "3  Just for a laugh, Jim agrees to an alliance wi...     Bryan Gordon   \n",
       "4  Michael and his staff challenge the warehouse ...     Greg Daniels   \n",
       "\n",
       "                                        written_by  total_lines  total_scenes  \\\n",
       "0  Ricky Gervais | Stephen Merchant | Greg Daniels          229            39   \n",
       "1                                      B. J. Novak          217            35   \n",
       "2                                 Paul Lieberstein          244            39   \n",
       "3                                    Michael Schur          265            49   \n",
       "4                                     Greg Daniels          235            40   \n",
       "\n",
       "   year  month  day  air_dates_diff_days  \n",
       "0  2005      3    3                    0  \n",
       "1  2005      3    1                    5  \n",
       "2  2005      4    1                   12  \n",
       "3  2005      4    1                   19  \n",
       "4  2005      4    1                   26  "
      ]
     },
     "execution_count": 20,
     "metadata": {},
     "output_type": "execute_result"
    }
   ],
   "source": [
    "ratings.head()"
   ]
  },
  {
   "cell_type": "code",
   "execution_count": 21,
   "metadata": {},
   "outputs": [
    {
     "data": {
      "application/vnd.microsoft.datawrangler.viewer.v0+json": {
       "columns": [
        {
         "name": "index",
         "rawType": "int64",
         "type": "integer"
        },
        {
         "name": "id",
         "rawType": "int64",
         "type": "integer"
        },
        {
         "name": "season",
         "rawType": "int64",
         "type": "integer"
        },
        {
         "name": "episode",
         "rawType": "int64",
         "type": "integer"
        },
        {
         "name": "scene",
         "rawType": "int64",
         "type": "integer"
        },
        {
         "name": "line_text",
         "rawType": "object",
         "type": "string"
        },
        {
         "name": "speaker",
         "rawType": "object",
         "type": "string"
        },
        {
         "name": "deleted",
         "rawType": "bool",
         "type": "boolean"
        }
       ],
       "conversionMethod": "pd.DataFrame",
       "ref": "a1531ae1-b008-4a7a-b18a-f921403eb146",
       "rows": [
        [
         "0",
         "1",
         "1",
         "1",
         "1",
         "All right Jim. Your quarterlies look very good. How are things at the library?",
         "Michael",
         "False"
        ],
        [
         "1",
         "2",
         "1",
         "1",
         "1",
         "Oh, I told you. I couldn't close it. So...",
         "Jim",
         "False"
        ],
        [
         "2",
         "3",
         "1",
         "1",
         "1",
         "So you've come to the master for guidance? Is this what you're saying, grasshopper?",
         "Michael",
         "False"
        ],
        [
         "3",
         "4",
         "1",
         "1",
         "1",
         "Actually, you called me in here, but yeah.",
         "Jim",
         "False"
        ],
        [
         "4",
         "5",
         "1",
         "1",
         "1",
         "All right. Well, let me show you how it's done.",
         "Michael",
         "False"
        ]
       ],
       "shape": {
        "columns": 7,
        "rows": 5
       }
      },
      "text/html": [
       "<div>\n",
       "<style scoped>\n",
       "    .dataframe tbody tr th:only-of-type {\n",
       "        vertical-align: middle;\n",
       "    }\n",
       "\n",
       "    .dataframe tbody tr th {\n",
       "        vertical-align: top;\n",
       "    }\n",
       "\n",
       "    .dataframe thead th {\n",
       "        text-align: right;\n",
       "    }\n",
       "</style>\n",
       "<table border=\"1\" class=\"dataframe\">\n",
       "  <thead>\n",
       "    <tr style=\"text-align: right;\">\n",
       "      <th></th>\n",
       "      <th>id</th>\n",
       "      <th>season</th>\n",
       "      <th>episode</th>\n",
       "      <th>scene</th>\n",
       "      <th>line_text</th>\n",
       "      <th>speaker</th>\n",
       "      <th>deleted</th>\n",
       "    </tr>\n",
       "  </thead>\n",
       "  <tbody>\n",
       "    <tr>\n",
       "      <th>0</th>\n",
       "      <td>1</td>\n",
       "      <td>1</td>\n",
       "      <td>1</td>\n",
       "      <td>1</td>\n",
       "      <td>All right Jim. Your quarterlies look very good...</td>\n",
       "      <td>Michael</td>\n",
       "      <td>False</td>\n",
       "    </tr>\n",
       "    <tr>\n",
       "      <th>1</th>\n",
       "      <td>2</td>\n",
       "      <td>1</td>\n",
       "      <td>1</td>\n",
       "      <td>1</td>\n",
       "      <td>Oh, I told you. I couldn't close it. So...</td>\n",
       "      <td>Jim</td>\n",
       "      <td>False</td>\n",
       "    </tr>\n",
       "    <tr>\n",
       "      <th>2</th>\n",
       "      <td>3</td>\n",
       "      <td>1</td>\n",
       "      <td>1</td>\n",
       "      <td>1</td>\n",
       "      <td>So you've come to the master for guidance? Is ...</td>\n",
       "      <td>Michael</td>\n",
       "      <td>False</td>\n",
       "    </tr>\n",
       "    <tr>\n",
       "      <th>3</th>\n",
       "      <td>4</td>\n",
       "      <td>1</td>\n",
       "      <td>1</td>\n",
       "      <td>1</td>\n",
       "      <td>Actually, you called me in here, but yeah.</td>\n",
       "      <td>Jim</td>\n",
       "      <td>False</td>\n",
       "    </tr>\n",
       "    <tr>\n",
       "      <th>4</th>\n",
       "      <td>5</td>\n",
       "      <td>1</td>\n",
       "      <td>1</td>\n",
       "      <td>1</td>\n",
       "      <td>All right. Well, let me show you how it's done.</td>\n",
       "      <td>Michael</td>\n",
       "      <td>False</td>\n",
       "    </tr>\n",
       "  </tbody>\n",
       "</table>\n",
       "</div>"
      ],
      "text/plain": [
       "   id  season  episode  scene  \\\n",
       "0   1       1        1      1   \n",
       "1   2       1        1      1   \n",
       "2   3       1        1      1   \n",
       "3   4       1        1      1   \n",
       "4   5       1        1      1   \n",
       "\n",
       "                                           line_text  speaker  deleted  \n",
       "0  All right Jim. Your quarterlies look very good...  Michael    False  \n",
       "1         Oh, I told you. I couldn't close it. So...      Jim    False  \n",
       "2  So you've come to the master for guidance? Is ...  Michael    False  \n",
       "3         Actually, you called me in here, but yeah.      Jim    False  \n",
       "4    All right. Well, let me show you how it's done.  Michael    False  "
      ]
     },
     "execution_count": 21,
     "metadata": {},
     "output_type": "execute_result"
    }
   ],
   "source": [
    "lines.head()"
   ]
  },
  {
   "cell_type": "markdown",
   "metadata": {},
   "source": [
    "* I am not sure about the `id` column, but we are going to keep it as it is for now. "
   ]
  },
  {
   "cell_type": "code",
   "execution_count": null,
   "metadata": {},
   "outputs": [],
   "source": [
    "## Save to CSV\n",
    "ratings.to_csv(Path(data_path,\"ratings.csv\"), index=False)\n",
    "lines.to_csv(Path(data_path,\"lines.csv\"), index=False)"
   ]
  }
 ],
 "metadata": {
  "kernelspec": {
   "display_name": "ml",
   "language": "python",
   "name": "python3"
  },
  "language_info": {
   "codemirror_mode": {
    "name": "ipython",
    "version": 3
   },
   "file_extension": ".py",
   "mimetype": "text/x-python",
   "name": "python",
   "nbconvert_exporter": "python",
   "pygments_lexer": "ipython3",
   "version": "3.12.7"
  }
 },
 "nbformat": 4,
 "nbformat_minor": 2
}
