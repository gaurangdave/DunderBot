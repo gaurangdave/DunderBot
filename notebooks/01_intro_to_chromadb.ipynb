{
 "cells": [
  {
   "cell_type": "markdown",
   "metadata": {},
   "source": [
    "# Intro to ChromaDB\n",
    "* This note book is created to play around and get a basic understanding of `ChromaDB`"
   ]
  },
  {
   "cell_type": "markdown",
   "metadata": {},
   "source": [
    "## Import Libraries"
   ]
  },
  {
   "cell_type": "code",
   "execution_count": 1,
   "metadata": {},
   "outputs": [],
   "source": [
    "import chromadb\n",
    "from chromadb.utils.embedding_functions import SentenceTransformerEmbeddingFunction, DefaultEmbeddingFunction\n",
    "# from sentence_transformers import SentenceTransformer"
   ]
  },
  {
   "cell_type": "markdown",
   "metadata": {},
   "source": [
    "## Initialize Client"
   ]
  },
  {
   "cell_type": "code",
   "execution_count": 2,
   "metadata": {},
   "outputs": [],
   "source": [
    "## initialize chroma\n",
    "## this starts the server and opens the client in ephemeral (short living) mode\n",
    "## the data is not persisted and is reset after closing the kernel\n",
    "chroma_client = chromadb.Client()"
   ]
  },
  {
   "cell_type": "markdown",
   "metadata": {},
   "source": [
    "## Create a Collection"
   ]
  },
  {
   "cell_type": "code",
   "execution_count": 3,
   "metadata": {},
   "outputs": [],
   "source": [
    "## define a an embedding function for the data. \n",
    "embedding_func = SentenceTransformerEmbeddingFunction('all-MiniLM-L6-v2')\n",
    "collection = chroma_client.create_collection(name=\"greetings_collection\", embedding_function=embedding_func)"
   ]
  },
  {
   "cell_type": "markdown",
   "metadata": {},
   "source": [
    "## Add documents to the collection"
   ]
  },
  {
   "cell_type": "code",
   "execution_count": 4,
   "metadata": {},
   "outputs": [],
   "source": [
    "documents = [\"Hello world\", \"Aloha world\", \"Namaste World\",\n",
    "             \"Mahalo World\", \"Adios World\", \"The dog says bow wow\"]\n",
    "metadatas = [{\"season\": 1, \"episode\": 1}, {\"season\": 1, \"episode\": 2}, {\"season\": 2, \"episode\": 1}, {\n",
    "    \"season\": 2, \"episode\": 2}, {\"season\": 3, \"episode\": 1}, {\"season\": 3, \"episode\": 2}]\n",
    "# IDs are required while adding the document\n",
    "# IDs need to be unique and string\n",
    "collection.add(\n",
    "    documents=documents,\n",
    "    metadatas=metadatas,\n",
    "    ids=[f\"id{num}\" for num in range(len(documents))])"
   ]
  },
  {
   "cell_type": "markdown",
   "metadata": {},
   "source": [
    "## Querying with Embeddings"
   ]
  },
  {
   "cell_type": "code",
   "execution_count": 5,
   "metadata": {},
   "outputs": [
    {
     "name": "stdout",
     "output_type": "stream",
     "text": [
      "{'ids': [['id5', 'id2']], 'embeddings': None, 'documents': [['The dog says bow wow', 'Namaste World']], 'uris': None, 'data': None, 'metadatas': [[{'episode': 2, 'season': 3}, {'episode': 1, 'season': 2}]], 'distances': [[1.313508152961731, 1.6261656284332275]], 'included': [<IncludeEnum.distances: 'distances'>, <IncludeEnum.documents: 'documents'>, <IncludeEnum.metadatas: 'metadatas'>]}\n"
     ]
    }
   ],
   "source": [
    "results = collection.query(\n",
    "    query_texts=[\"animals\"],\n",
    "    n_results=2,\n",
    "        include=[\"documents\",  \"metadatas\", \"distances\"]\n",
    ")\n",
    "\n",
    "print(results)"
   ]
  },
  {
   "cell_type": "markdown",
   "metadata": {},
   "source": [
    "Observations:\n",
    "* So `ChromaDB` uses `Euclidean Distance` to find the similarity between text vectors, instead of `Cosine Similarity`. "
   ]
  },
  {
   "cell_type": "markdown",
   "metadata": {},
   "source": [
    "## Querying with Metadata"
   ]
  },
  {
   "cell_type": "code",
   "execution_count": 6,
   "metadata": {},
   "outputs": [
    {
     "name": "stdout",
     "output_type": "stream",
     "text": [
      "{'ids': ['id0', 'id1'], 'embeddings': None, 'documents': ['Hello world', 'Aloha world'], 'uris': None, 'data': None, 'metadatas': [{'episode': 1, 'season': 1}, {'episode': 2, 'season': 1}], 'included': [<IncludeEnum.documents: 'documents'>, <IncludeEnum.metadatas: 'metadatas'>]}\n"
     ]
    }
   ],
   "source": [
    "metadata_query = {\"season\":{\"$eq\":1}}\n",
    "\n",
    "results = collection.get(where=metadata_query)\n",
    "print(results)"
   ]
  },
  {
   "cell_type": "markdown",
   "metadata": {},
   "source": [
    "## Combining Embeddings & Metadata"
   ]
  },
  {
   "cell_type": "code",
   "execution_count": 11,
   "metadata": {},
   "outputs": [
    {
     "name": "stdout",
     "output_type": "stream",
     "text": [
      "{'ids': [['id5']], 'embeddings': None, 'documents': [['The dog says bow wow']], 'uris': None, 'data': None, 'metadatas': [[{'episode': 2, 'season': 3}]], 'distances': [[1.313508152961731]], 'included': [<IncludeEnum.distances: 'distances'>, <IncludeEnum.documents: 'documents'>, <IncludeEnum.metadatas: 'metadatas'>]}\n"
     ]
    }
   ],
   "source": [
    "metadata_query = {\"season\": {\"$eq\": 3}}\n",
    "\n",
    "results = collection.query(\n",
    "    query_texts=[\"animals\"],\n",
    "    where=metadata_query,\n",
    "    n_results=1\n",
    ")\n",
    "print(results)"
   ]
  },
  {
   "cell_type": "markdown",
   "metadata": {},
   "source": [
    "## Upserting Documents"
   ]
  },
  {
   "cell_type": "code",
   "execution_count": 14,
   "metadata": {},
   "outputs": [],
   "source": [
    "collection.upsert(\n",
    "    ids=[\"id6\",\"id7\"],\n",
    "    documents=[\"the cat says meow\", \"Vancouver is a city in Western Canada\"],\n",
    "    metadatas=[{\"season\": 4, \"episode\": 1}, {\"season\": 4, \"episode\": 2}]\n",
    ")"
   ]
  },
  {
   "cell_type": "code",
   "execution_count": 19,
   "metadata": {},
   "outputs": [
    {
     "name": "stdout",
     "output_type": "stream",
     "text": [
      "{'ids': [['id5', 'id6']], 'embeddings': None, 'documents': [['The dog says bow wow', 'the cat says meow']], 'uris': None, 'data': None, 'metadatas': [[{'episode': 2, 'season': 3}, {'episode': 1, 'season': 4}]], 'distances': [[1.313508152961731, 1.3540990352630615]], 'included': [<IncludeEnum.distances: 'distances'>, <IncludeEnum.documents: 'documents'>, <IncludeEnum.metadatas: 'metadatas'>]}\n"
     ]
    }
   ],
   "source": [
    "results = collection.query(\n",
    "    query_texts=[\"animals\"],\n",
    "    n_results=2\n",
    ")\n",
    "print(results)"
   ]
  },
  {
   "cell_type": "markdown",
   "metadata": {},
   "source": [
    "## Deleting Documents"
   ]
  },
  {
   "cell_type": "code",
   "execution_count": 20,
   "metadata": {},
   "outputs": [],
   "source": [
    "collection.delete(\n",
    "    ids=['id5', 'id6']\n",
    ")"
   ]
  },
  {
   "cell_type": "code",
   "execution_count": 21,
   "metadata": {},
   "outputs": [
    {
     "name": "stdout",
     "output_type": "stream",
     "text": [
      "{'ids': [['id2', 'id1']], 'embeddings': None, 'documents': [['Namaste World', 'Aloha world']], 'uris': None, 'data': None, 'metadatas': [[{'episode': 1, 'season': 2}, {'episode': 2, 'season': 1}]], 'distances': [[1.6261656284332275, 1.628368854522705]], 'included': [<IncludeEnum.distances: 'distances'>, <IncludeEnum.documents: 'documents'>, <IncludeEnum.metadatas: 'metadatas'>]}\n"
     ]
    }
   ],
   "source": [
    "results = collection.query(\n",
    "    query_texts=[\"animals\"],\n",
    "    n_results=2\n",
    ")\n",
    "print(results)"
   ]
  },
  {
   "cell_type": "code",
   "execution_count": null,
   "metadata": {},
   "outputs": [],
   "source": []
  }
 ],
 "metadata": {
  "kernelspec": {
   "display_name": "ml",
   "language": "python",
   "name": "python3"
  },
  "language_info": {
   "codemirror_mode": {
    "name": "ipython",
    "version": 3
   },
   "file_extension": ".py",
   "mimetype": "text/x-python",
   "name": "python",
   "nbconvert_exporter": "python",
   "pygments_lexer": "ipython3",
   "version": "3.12.7"
  }
 },
 "nbformat": 4,
 "nbformat_minor": 2
}
